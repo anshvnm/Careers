{
 "cells": [
  {
   "cell_type": "markdown",
   "metadata": {},
   "source": [
    "<h2><center>Final Project: Where it Pays to Attend College</center></h2>"
   ]
  },
  {
   "cell_type": "markdown",
   "metadata": {},
   "source": [
    "<h3><center>By Ansh Vanam and Rishi Mullangi<center></h3>"
   ]
  },
  {
   "cell_type": "markdown",
   "metadata": {},
   "source": [
    "<h2>Introduction</h2>"
   ]
  },
  {
   "cell_type": "markdown",
   "metadata": {},
   "source": [
    "For our final project, we have decided to work with a dataset that contains salaries of various colleges based on major, type of school (private, public), and region. The dataset we chose has three separate CSV files, \"salaries-by-college-type.csv\", \"salaries-by-region.csv\", and \"degrees-that-pay-back.csv\". These CSV files contain data from graduating up to their mid-career, including percentiles ranging from 10-90. "
   ]
  },
  {
   "cell_type": "markdown",
   "metadata": {},
   "source": [
    "Using these CSV files, we plan to look into how these variables affect the salaries of students, and how these factors can affect choices of students looking to go into college. Our first step is to download the CSV files from this Kaggle dataset, created by the Wall Street Journal:\n",
    "\n",
    "https://www.kaggle.com/datasets/wsj/college-salaries/code?resource=download&select=salaries-by-college-type.csv\n",
    "\n",
    "From here, we can download the three CSV files and import them into our code editor. Then, we use pandas to create dataframes out of the CSV files. "
   ]
  },
  {
   "cell_type": "markdown",
   "metadata": {},
   "source": [
    "Note: Ensure you have the following python libraries installed on your system and the CSV files downloaded to run the tutorial."
   ]
  },
  {
   "attachments": {},
   "cell_type": "markdown",
   "metadata": {},
   "source": [
    "Pandas documentation - https://pandas.pydata.org/docs/ \n",
    "\n",
    "Seaborn documentation - https://seaborn.pydata.org\n",
    "\n",
    "Numpy documentation - https://numpy.org/doc/ \n",
    "\n",
    "Matplotlib documentation - https://matplotlib.org/stable/index.html "
   ]
  },
  {
   "cell_type": "code",
   "execution_count": null,
   "metadata": {},
   "outputs": [],
   "source": [
    "import pandas as pd\n",
    "import numpy as np\n",
    "import statsmodels.api as stm\n",
    "import matplotlib.pyplot as plt\n",
    "from matplotlib.pyplot import figure"
   ]
  },
  {
   "attachments": {},
   "cell_type": "markdown",
   "metadata": {},
   "source": [
    "The first table we're looking at is salaries-by-college-type, which details the names of various colleges as well as their School Type. In the next python block we will work on cleaning the data and making it more useable. First, we need to change the values to floats so that we can do operations on them. Then, we change the names of the columns to be more clear and correspond well with the other dataframes we will initialize."
   ]
  },
  {
   "cell_type": "code",
   "execution_count": null,
   "metadata": {},
   "outputs": [],
   "source": [
    "df_by_colleges = pd.read_csv('salaries-by-college-type.csv')\n",
    "#Getting rid of all of the NaN values and replacing them with 0 to make calculations doable.\n",
    "#df1 = df1.fillna(0)\n",
    "\n",
    "#Should we include the dataframe before cleaning it up as well, or just the cleaned up version? \n",
    "\n",
    "#Getting rid of $ signs as well as commas so that we can convert values to floats. \n",
    "for (columnName, columnData) in df_by_colleges.iteritems():\n",
    "    df_by_colleges[columnName] = df_by_colleges[columnName].str.replace('$','')\n",
    "    df_by_colleges[columnName] = df_by_colleges[columnName].str.replace(',', '')\n",
    "df_by_colleges = df_by_colleges.astype({'Starting Median Salary':'float', \n",
    "'Mid-Career Median Salary': 'float', 'Mid-Career 10th Percentile Salary': 'float', \n",
    "'Mid-Career 25th Percentile Salary':'float', 'Mid-Career 75th Percentile Salary':'float', \n",
    "'Mid-Career 90th Percentile Salary':'float'})\n",
    "\n",
    "print(df_by_colleges.dtypes)\n",
    "\n",
    "#Rename columns to be more concise but still descriptive \n",
    "df_by_colleges = df_by_colleges.rename(columns = {'School Name':'School Name',\n",
    "'School Type':'School Type','Starting Median Salary':'Starting Median', \n",
    "'Mid-Career Median Salary':'Mid-Career Median', \n",
    "'Mid-Career 10th Percentile Salary':'Mid-Career 10%',\n",
    "'Mid-Career 25th Percentile Salary':'Mid-Career 25%', \n",
    "'Mid-Career 75th Percentile Salary':'Mid-Career 75%', \n",
    "'Mid-Career 90th Percentile Salary':'Mid-Career 90%'})\n",
    "df_by_colleges.head()"
   ]
  },
  {
   "attachments": {},
   "cell_type": "markdown",
   "metadata": {},
   "source": [
    "Now that we've cleaned up our first table by converting the values that are numerical to floats, we can move on to the next table, 'degrees-that-pay-back.csv', which details undergraduate major's median starting salary in relation to their undergraduate major, mid-career median salary, and other useful information that we can use later on in the tutorial. We will stick to the same column renaming conventions so that the column names remain aligned across the different dataframes"
   ]
  },
  {
   "cell_type": "code",
   "execution_count": null,
   "metadata": {},
   "outputs": [],
   "source": [
    "df_by_major = pd.read_csv('degrees-that-pay-back.csv')\n",
    "\n",
    "#Getting rid of all of the NaN values and replacing them with 0 to make calculations doable.\n",
    "#df_by_major = df_by_major.fillna(0)\n",
    "\n",
    "#Changing all of the columns to floats (Where required)\n",
    "for (columnName, columnData) in df_by_major.iteritems():\n",
    "    if(columnName == 'Percent change from Starting to Mid-Career Salary'): continue\n",
    "    df_by_major[columnName] = df_by_major[columnName].str.replace('$','')\n",
    "    df_by_major[columnName] = df_by_major[columnName].str.replace(',', '')\n",
    "df_by_major = df_by_major.astype({'Starting Median Salary':'float', \n",
    "'Mid-Career Median Salary': 'float', 'Mid-Career 10th Percentile Salary': 'float', \n",
    "'Mid-Career 25th Percentile Salary':'float', 'Mid-Career 75th Percentile Salary':'float', \n",
    "'Mid-Career 90th Percentile Salary':'float'})\n",
    "\n",
    "print(df_by_major.dtypes)\n",
    "\n",
    "#Rename columns to be more concise but still descriptive \n",
    "df_by_major = df_by_major.rename(columns = {'Undergraduate Major':'Major',\n",
    "'Starting Median Salary':'Starting Median', \n",
    "'Mid-Career Median Salary':'Mid-Career Median', \n",
    "'Percent change from Starting to Mid-Career Salary': 'Start to Mid % Change',\n",
    "'Mid-Career 10th Percentile Salary':'Mid-Career 10%',\n",
    "'Mid-Career 25th Percentile Salary':'Mid-Career 25%', \n",
    "'Mid-Career 75th Percentile Salary':'Mid-Career 75%', \n",
    "'Mid-Career 90th Percentile Salary':'Mid-Career 90%'})\n",
    "df_by_major.head()"
   ]
  },
  {
   "attachments": {},
   "cell_type": "markdown",
   "metadata": {},
   "source": [
    "Finally, we can look at the last CSV file, 'salaries-by-region.csv', which details college graduate salaries by region and college. We will perform the same operations on this dataframe, namely, converting values to floats as appropriate, and renaming columns for compatibility across the dataframes."
   ]
  },
  {
   "cell_type": "code",
   "execution_count": null,
   "metadata": {},
   "outputs": [],
   "source": [
    "df_by_region = pd.read_csv('salaries-by-region.csv')\n",
    "#Getting rid of all of the NaN values and replacing them with 0 to make calculations doable.\n",
    "#df_by_region = df_by_region.fillna(0)\n",
    "\n",
    "#Converting numerical columns to float values.\n",
    "for (columnName, columnData) in df_by_region.iteritems():\n",
    "    if(columnName == 'Percent change from Starting to Mid-Career Salary'): continue\n",
    "    df_by_region[columnName] = df_by_region[columnName].str.replace('$','')\n",
    "    df_by_region[columnName] = df_by_region[columnName].str.replace(',', '')\n",
    "df_by_region = df_by_region.astype({'Starting Median Salary':'float', \n",
    "'Mid-Career Median Salary': 'float', 'Mid-Career 10th Percentile Salary': 'float', \n",
    "'Mid-Career 25th Percentile Salary':'float', 'Mid-Career 75th Percentile Salary':'float', \n",
    "'Mid-Career 90th Percentile Salary':'float'})\n",
    "\n",
    "print(df_by_region.dtypes)\n",
    "\n",
    "#Rename columns to be more concise but still descriptive \n",
    "df_by_region = df_by_region.rename(columns = {'School Name':'School Name',\n",
    "'Starting Median Salary':'Starting Median', \n",
    "'Mid-Career Median Salary':'Mid-Career Median', \n",
    "'Mid-Career 10th Percentile Salary':'Mid-Career 10%',\n",
    "'Mid-Career 25th Percentile Salary':'Mid-Career 25%', \n",
    "'Mid-Career 75th Percentile Salary':'Mid-Career 75%', \n",
    "'Mid-Career 90th Percentile Salary':'Mid-Career 90%'})\n",
    "df_by_region.head()"
   ]
  },
  {
   "attachments": {},
   "cell_type": "markdown",
   "metadata": {},
   "source": [
    "<h2>Data Management/Representation</h2>\n",
    "Next, we will represent various data from the dataframes to try and understand the tables more, and focus our tutorial. These graphs will provide a visual understanding of what all the dataframes represent."
   ]
  },
  {
   "attachments": {},
   "cell_type": "markdown",
   "metadata": {},
   "source": [
    "First, we want to understand the relationship between region and starting median salary, to see if the region has a heavy effect on new graduates' salaries. To do this, we can create a simple bar graph that will display the median salary ranges of the various regions. "
   ]
  },
  {
   "cell_type": "code",
   "execution_count": null,
   "metadata": {},
   "outputs": [],
   "source": [
    "#plt.figure(figsize = (10,7))\n",
    "plt.title('Region and Starting Median Salary')\n",
    "plt.xlabel('Region')\n",
    "plt.ylabel('Starting Median Salary')\n",
    "plt.bar(df_by_region['Region'], df_by_region['Starting Median'])\n",
    "plt.plot()"
   ]
  },
  {
   "attachments": {},
   "cell_type": "markdown",
   "metadata": {},
   "source": [
    "Here, we see that California universities have the highest starting median salary, followed closely by colleges in the Northeast. \n",
    "\n",
    "It is likely that a high percentage of students decide to live within the same region/state where they went to school. Since California and the Northeast are more expensive to live in than the other three regions, it makes sense that the starting median salary for students attending universities in either of the two regions is also higher. \n",
    "\n",
    "California and the Northeast might also have a higher percentage of prestigious schools than the other regions"
   ]
  },
  {
   "attachments": {},
   "cell_type": "markdown",
   "metadata": {},
   "source": [
    "Now we will replicate the Median Salary vs Region graph, except for Mid Career instead of Starting"
   ]
  },
  {
   "cell_type": "code",
   "execution_count": null,
   "metadata": {},
   "outputs": [],
   "source": [
    "#plt.figure(figsize = (10,7))\n",
    "plt.title('Region and Mid-Career Median Salary')\n",
    "plt.xlabel('Region')\n",
    "plt.ylabel('Mid-Career Median Salary')\n",
    "plt.bar(df_by_region['Region'], df_by_region['Mid-Career Median'])\n",
    "plt.plot()"
   ]
  },
  {
   "attachments": {},
   "cell_type": "markdown",
   "metadata": {},
   "source": [
    "Here we see that although California universities have the highest starting median salary, Northeastern universities have the highest mid career median salary. "
   ]
  },
  {
   "attachments": {},
   "cell_type": "markdown",
   "metadata": {},
   "source": [
    "School Type vs. Starting Median"
   ]
  },
  {
   "cell_type": "code",
   "execution_count": null,
   "metadata": {},
   "outputs": [],
   "source": [
    "#plt.figure(figsize = (10,7))\n",
    "plt.title('School Type and Starting Median Salary')\n",
    "plt.xlabel('School Type')\n",
    "plt.ylabel('Starting Median Salary')\n",
    "plt.bar(df_by_colleges['School Type'], df_by_colleges['Starting Median'])\n",
    "plt.plot()"
   ]
  },
  {
   "attachments": {},
   "cell_type": "markdown",
   "metadata": {},
   "source": [
    "School Type vs. Mid-Career Median"
   ]
  },
  {
   "cell_type": "code",
   "execution_count": null,
   "metadata": {},
   "outputs": [],
   "source": [
    "#plt.figure(figsize = (10,7))\n",
    "plt.title('School Type and Mid-Career Median Salary')\n",
    "plt.xlabel('School Type')\n",
    "plt.ylabel('Mid-Career Median Salary')\n",
    "plt.bar(df_by_colleges['School Type'], df_by_colleges['Mid-Career Median'])\n",
    "plt.plot()"
   ]
  },
  {
   "attachments": {},
   "cell_type": "markdown",
   "metadata": {},
   "source": [
    "We notice that the starting median salary from Engineering schools is higher than that of Ivy League, but the mid career median salary of Engineering schools is lower than that of Ivy League. This is a trend similar to what we noticed in California-Northeastern school salaries."
   ]
  },
  {
   "attachments": {},
   "cell_type": "markdown",
   "metadata": {},
   "source": [
    "Major vs Salary analysis"
   ]
  },
  {
   "cell_type": "code",
   "execution_count": null,
   "metadata": {},
   "outputs": [],
   "source": [
    "#Initial analysis on major - salary.\n",
    "    #Theres a lot of majors so I couldnt think of a way to graph this\n",
    "    #For now I just made two lists sorted in descending order of start and mid salary respectively\n",
    "\n",
    "#Start\n",
    "starting_order = df_by_major.sort_values(by = 'Starting Median', ascending = False)['Major'].reset_index()\n",
    "starting_order"
   ]
  },
  {
   "cell_type": "code",
   "execution_count": null,
   "metadata": {},
   "outputs": [],
   "source": [
    "#Midcareer salaries sorted in decreasing order by major\n",
    "mid_order = df_by_major.sort_values(by = 'Mid-Career Median', ascending = False)['Major'].reset_index()\n",
    "mid_order"
   ]
  },
  {
   "cell_type": "code",
   "execution_count": null,
   "metadata": {},
   "outputs": [],
   "source": [
    "df_by_region['Region'].nunique()"
   ]
  },
  {
   "cell_type": "code",
   "execution_count": null,
   "metadata": {},
   "outputs": [],
   "source": [
    "len(df_by_region['School Name'].unique())"
   ]
  },
  {
   "cell_type": "code",
   "execution_count": null,
   "metadata": {},
   "outputs": [],
   "source": [
    "df_by_region[df_by_region['School Name'] == 'Massachusetts Institute of Technology (MIT)']"
   ]
  },
  {
   "cell_type": "code",
   "execution_count": null,
   "metadata": {},
   "outputs": [],
   "source": [
    "df_by_colleges[df_by_colleges['School_Name'] == 'Massachusetts Institute of Technology (MIT)']"
   ]
  },
  {
   "cell_type": "code",
   "execution_count": null,
   "metadata": {},
   "outputs": [],
   "source": [
    "df_by_region"
   ]
  },
  {
   "cell_type": "code",
   "execution_count": null,
   "metadata": {},
   "outputs": [],
   "source": [
    "df_by_major['Major'].unique()"
   ]
  }
 ],
 "metadata": {
  "kernelspec": {
   "display_name": "base",
   "language": "python",
   "name": "python3"
  },
  "language_info": {
   "codemirror_mode": {
    "name": "ipython",
    "version": 3
   },
   "file_extension": ".py",
   "mimetype": "text/x-python",
   "name": "python",
   "nbconvert_exporter": "python",
   "pygments_lexer": "ipython3",
   "version": "3.9.12"
  },
  "orig_nbformat": 4,
  "vscode": {
   "interpreter": {
    "hash": "d4d1e4263499bec80672ea0156c357c1ee493ec2b1c70f0acce89fc37c4a6abe"
   }
  }
 },
 "nbformat": 4,
 "nbformat_minor": 2
}
