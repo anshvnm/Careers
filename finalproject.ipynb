{
 "cells": [
  {
   "cell_type": "markdown",
   "metadata": {},
   "source": [
    "<h2><center>Final Project: Where it Pays to Attend College</center></h2>"
   ]
  },
  {
   "cell_type": "markdown",
   "metadata": {},
   "source": [
    "<h3><center>By Ansh Vanam and Rishi Mullangi<center></h3>"
   ]
  },
  {
   "cell_type": "markdown",
   "metadata": {},
   "source": [
    "<h2>Introduction</h2>"
   ]
  },
  {
   "cell_type": "markdown",
   "metadata": {},
   "source": [
    "For our final project, we have decided to work with a dataset that contains salaries of various colleges based on major, type of school (private, public), and region. The dataset we chose has three separate CSV files, \"salaries-by-college-type.csv\", \"salaries-by-region.csv\", and \"degrees-that-pay-back.csv\". These CSV files contain data from graduating up to their mid-career, including percentiles ranging from 10-90. "
   ]
  },
  {
   "cell_type": "markdown",
   "metadata": {},
   "source": [
    "Using these CSV files, we plan to look into how these variables affect the salaries of students, and how these factors can affect choices of students looking to go into college. Our first step is to download the CSV files from this Kaggle dataset, created by the Wall Street Journal:\n",
    "\n",
    "https://www.kaggle.com/datasets/wsj/college-salaries/code?resource=download&select=salaries-by-college-type.csv\n",
    "\n",
    "From here, we can download the three CSV files and import them into our code editor. Then, we use pandas to create dataframes out of the CSV files. "
   ]
  },
  {
   "cell_type": "markdown",
   "metadata": {},
   "source": [
    "Note: Ensure you have the following python libraries installed on your system and the CSV files downloaded to run the tutorial."
   ]
  },
  {
   "attachments": {},
   "cell_type": "markdown",
   "metadata": {},
   "source": [
    "Pandas documentation - https://pandas.pydata.org/docs/ \n",
    "\n",
    "Seaborn documentation - https://seaborn.pydata.org\n",
    "\n",
    "Numpy documentation - https://numpy.org/doc/ \n",
    "\n",
    "Matplotlib documentation - https://matplotlib.org/stable/index.html "
   ]
  },
  {
   "cell_type": "code",
   "execution_count": 25,
   "metadata": {},
   "outputs": [],
   "source": [
    "import pandas as pd\n",
    "import numpy as np\n",
    "import statsmodels.api as stm\n",
    "import matplotlib.pyplot as plt\n",
    "from matplotlib.pyplot import figure"
   ]
  },
  {
   "attachments": {},
   "cell_type": "markdown",
   "metadata": {},
   "source": [
    "The first table we're looking at is salaries-by-college-type, which details the names of various colleges as well as their School Type. In the next python block we will work on cleaning the data and making it more useable. First, we need to change the values to floats so that we can do operations on them. Then, we change the names of the columns to be more clear and correspond well with the other dataframes we will initialize."
   ]
  },
  {
   "cell_type": "code",
   "execution_count": 26,
   "metadata": {},
   "outputs": [
    {
     "name": "stdout",
     "output_type": "stream",
     "text": [
      "School Name                           object\n",
      "School Type                           object\n",
      "Starting Median Salary               float64\n",
      "Mid-Career Median Salary             float64\n",
      "Mid-Career 10th Percentile Salary    float64\n",
      "Mid-Career 25th Percentile Salary    float64\n",
      "Mid-Career 75th Percentile Salary    float64\n",
      "Mid-Career 90th Percentile Salary    float64\n",
      "dtype: object\n"
     ]
    },
    {
     "name": "stderr",
     "output_type": "stream",
     "text": [
      "C:\\Users\\RishiMain\\AppData\\Local\\Temp\\ipykernel_22104\\2603699041.py:9: FutureWarning: The default value of regex will change from True to False in a future version. In addition, single character regular expressions will *not* be treated as literal strings when regex=True.\n",
      "  df_by_colleges[columnName] = df_by_colleges[columnName].str.replace('$','')\n"
     ]
    },
    {
     "data": {
      "text/html": [
       "<div>\n",
       "<style scoped>\n",
       "    .dataframe tbody tr th:only-of-type {\n",
       "        vertical-align: middle;\n",
       "    }\n",
       "\n",
       "    .dataframe tbody tr th {\n",
       "        vertical-align: top;\n",
       "    }\n",
       "\n",
       "    .dataframe thead th {\n",
       "        text-align: right;\n",
       "    }\n",
       "</style>\n",
       "<table border=\"1\" class=\"dataframe\">\n",
       "  <thead>\n",
       "    <tr style=\"text-align: right;\">\n",
       "      <th></th>\n",
       "      <th>School Name</th>\n",
       "      <th>School Type</th>\n",
       "      <th>Starting Median</th>\n",
       "      <th>Mid-Career Median</th>\n",
       "      <th>Mid-Career 10%</th>\n",
       "      <th>Mid-Career 25%</th>\n",
       "      <th>Mid-Career 75%</th>\n",
       "      <th>Mid-Career 90%</th>\n",
       "    </tr>\n",
       "  </thead>\n",
       "  <tbody>\n",
       "    <tr>\n",
       "      <th>0</th>\n",
       "      <td>Massachusetts Institute of Technology (MIT)</td>\n",
       "      <td>Engineering</td>\n",
       "      <td>72200.0</td>\n",
       "      <td>126000.0</td>\n",
       "      <td>76800.0</td>\n",
       "      <td>99200.0</td>\n",
       "      <td>168000.0</td>\n",
       "      <td>220000.0</td>\n",
       "    </tr>\n",
       "    <tr>\n",
       "      <th>1</th>\n",
       "      <td>California Institute of Technology (CIT)</td>\n",
       "      <td>Engineering</td>\n",
       "      <td>75500.0</td>\n",
       "      <td>123000.0</td>\n",
       "      <td>NaN</td>\n",
       "      <td>104000.0</td>\n",
       "      <td>161000.0</td>\n",
       "      <td>NaN</td>\n",
       "    </tr>\n",
       "    <tr>\n",
       "      <th>2</th>\n",
       "      <td>Harvey Mudd College</td>\n",
       "      <td>Engineering</td>\n",
       "      <td>71800.0</td>\n",
       "      <td>122000.0</td>\n",
       "      <td>NaN</td>\n",
       "      <td>96000.0</td>\n",
       "      <td>180000.0</td>\n",
       "      <td>NaN</td>\n",
       "    </tr>\n",
       "    <tr>\n",
       "      <th>3</th>\n",
       "      <td>Polytechnic University of New York Brooklyn</td>\n",
       "      <td>Engineering</td>\n",
       "      <td>62400.0</td>\n",
       "      <td>114000.0</td>\n",
       "      <td>66800.0</td>\n",
       "      <td>94300.0</td>\n",
       "      <td>143000.0</td>\n",
       "      <td>190000.0</td>\n",
       "    </tr>\n",
       "    <tr>\n",
       "      <th>4</th>\n",
       "      <td>Cooper Union</td>\n",
       "      <td>Engineering</td>\n",
       "      <td>62200.0</td>\n",
       "      <td>114000.0</td>\n",
       "      <td>NaN</td>\n",
       "      <td>80200.0</td>\n",
       "      <td>142000.0</td>\n",
       "      <td>NaN</td>\n",
       "    </tr>\n",
       "  </tbody>\n",
       "</table>\n",
       "</div>"
      ],
      "text/plain": [
       "                                   School Name  School Type  Starting Median  \\\n",
       "0  Massachusetts Institute of Technology (MIT)  Engineering          72200.0   \n",
       "1     California Institute of Technology (CIT)  Engineering          75500.0   \n",
       "2                          Harvey Mudd College  Engineering          71800.0   \n",
       "3  Polytechnic University of New York Brooklyn  Engineering          62400.0   \n",
       "4                                 Cooper Union  Engineering          62200.0   \n",
       "\n",
       "   Mid-Career Median  Mid-Career 10%  Mid-Career 25%  Mid-Career 75%  \\\n",
       "0           126000.0         76800.0         99200.0        168000.0   \n",
       "1           123000.0             NaN        104000.0        161000.0   \n",
       "2           122000.0             NaN         96000.0        180000.0   \n",
       "3           114000.0         66800.0         94300.0        143000.0   \n",
       "4           114000.0             NaN         80200.0        142000.0   \n",
       "\n",
       "   Mid-Career 90%  \n",
       "0        220000.0  \n",
       "1             NaN  \n",
       "2             NaN  \n",
       "3        190000.0  \n",
       "4             NaN  "
      ]
     },
     "execution_count": 26,
     "metadata": {},
     "output_type": "execute_result"
    }
   ],
   "source": [
    "df_by_colleges = pd.read_csv('salaries-by-college-type.csv')\n",
    "#Getting rid of all of the NaN values and replacing them with 0 to make calculations doable.\n",
    "#df1 = df1.fillna(0)\n",
    "\n",
    "#Should we include the dataframe before cleaning it up as well, or just the cleaned up version? \n",
    "\n",
    "#Getting rid of $ signs as well as commas so that we can convert values to floats. \n",
    "for (columnName, columnData) in df_by_colleges.iteritems():\n",
    "    df_by_colleges[columnName] = df_by_colleges[columnName].str.replace('$','')\n",
    "    df_by_colleges[columnName] = df_by_colleges[columnName].str.replace(',', '')\n",
    "df_by_colleges = df_by_colleges.astype({'Starting Median Salary':'float', \n",
    "'Mid-Career Median Salary': 'float', 'Mid-Career 10th Percentile Salary': 'float', \n",
    "'Mid-Career 25th Percentile Salary':'float', 'Mid-Career 75th Percentile Salary':'float', \n",
    "'Mid-Career 90th Percentile Salary':'float'})\n",
    "\n",
    "print(df_by_colleges.dtypes)\n",
    "\n",
    "#Rename columns to be more concise but still descriptive \n",
    "df_by_colleges = df_by_colleges.rename(columns = {'School Name':'School Name',\n",
    "'School Type':'School Type','Starting Median Salary':'Starting Median', \n",
    "'Mid-Career Median Salary':'Mid-Career Median', \n",
    "'Mid-Career 10th Percentile Salary':'Mid-Career 10%',\n",
    "'Mid-Career 25th Percentile Salary':'Mid-Career 25%', \n",
    "'Mid-Career 75th Percentile Salary':'Mid-Career 75%', \n",
    "'Mid-Career 90th Percentile Salary':'Mid-Career 90%'})\n",
    "df_by_colleges.head()"
   ]
  },
  {
   "attachments": {},
   "cell_type": "markdown",
   "metadata": {},
   "source": [
    "Now that we've cleaned up our first table by converting the values that are numerical to floats, we can move on to the next table, 'degrees-that-pay-back.csv', which details undergraduate major's median starting salary in relation to their undergraduate major, mid-career median salary, and other useful information that we can use later on in the tutorial. We will stick to the same column renaming conventions so that the column names remain aligned across the different dataframes"
   ]
  },
  {
   "cell_type": "code",
   "execution_count": 27,
   "metadata": {},
   "outputs": [
    {
     "name": "stderr",
     "output_type": "stream",
     "text": [
      "C:\\Users\\RishiMain\\AppData\\Local\\Temp\\ipykernel_22104\\1207613615.py:9: FutureWarning: The default value of regex will change from True to False in a future version. In addition, single character regular expressions will *not* be treated as literal strings when regex=True.\n",
      "  df_by_major[columnName] = df_by_major[columnName].str.replace('$','')\n"
     ]
    },
    {
     "name": "stdout",
     "output_type": "stream",
     "text": [
      "Undergraduate Major                                   object\n",
      "Starting Median Salary                               float64\n",
      "Mid-Career Median Salary                             float64\n",
      "Percent change from Starting to Mid-Career Salary    float64\n",
      "Mid-Career 10th Percentile Salary                    float64\n",
      "Mid-Career 25th Percentile Salary                    float64\n",
      "Mid-Career 75th Percentile Salary                    float64\n",
      "Mid-Career 90th Percentile Salary                    float64\n",
      "dtype: object\n"
     ]
    },
    {
     "data": {
      "text/html": [
       "<div>\n",
       "<style scoped>\n",
       "    .dataframe tbody tr th:only-of-type {\n",
       "        vertical-align: middle;\n",
       "    }\n",
       "\n",
       "    .dataframe tbody tr th {\n",
       "        vertical-align: top;\n",
       "    }\n",
       "\n",
       "    .dataframe thead th {\n",
       "        text-align: right;\n",
       "    }\n",
       "</style>\n",
       "<table border=\"1\" class=\"dataframe\">\n",
       "  <thead>\n",
       "    <tr style=\"text-align: right;\">\n",
       "      <th></th>\n",
       "      <th>Major</th>\n",
       "      <th>Starting Median</th>\n",
       "      <th>Mid-Career Median</th>\n",
       "      <th>Start to Mid % Change</th>\n",
       "      <th>Mid-Career 10%</th>\n",
       "      <th>Mid-Career 25%</th>\n",
       "      <th>Mid-Career 75%</th>\n",
       "      <th>Mid-Career 90%</th>\n",
       "    </tr>\n",
       "  </thead>\n",
       "  <tbody>\n",
       "    <tr>\n",
       "      <th>0</th>\n",
       "      <td>Accounting</td>\n",
       "      <td>46000.0</td>\n",
       "      <td>77100.0</td>\n",
       "      <td>67.6</td>\n",
       "      <td>42200.0</td>\n",
       "      <td>56100.0</td>\n",
       "      <td>108000.0</td>\n",
       "      <td>152000.0</td>\n",
       "    </tr>\n",
       "    <tr>\n",
       "      <th>1</th>\n",
       "      <td>Aerospace Engineering</td>\n",
       "      <td>57700.0</td>\n",
       "      <td>101000.0</td>\n",
       "      <td>75.0</td>\n",
       "      <td>64300.0</td>\n",
       "      <td>82100.0</td>\n",
       "      <td>127000.0</td>\n",
       "      <td>161000.0</td>\n",
       "    </tr>\n",
       "    <tr>\n",
       "      <th>2</th>\n",
       "      <td>Agriculture</td>\n",
       "      <td>42600.0</td>\n",
       "      <td>71900.0</td>\n",
       "      <td>68.8</td>\n",
       "      <td>36300.0</td>\n",
       "      <td>52100.0</td>\n",
       "      <td>96300.0</td>\n",
       "      <td>150000.0</td>\n",
       "    </tr>\n",
       "    <tr>\n",
       "      <th>3</th>\n",
       "      <td>Anthropology</td>\n",
       "      <td>36800.0</td>\n",
       "      <td>61500.0</td>\n",
       "      <td>67.1</td>\n",
       "      <td>33800.0</td>\n",
       "      <td>45500.0</td>\n",
       "      <td>89300.0</td>\n",
       "      <td>138000.0</td>\n",
       "    </tr>\n",
       "    <tr>\n",
       "      <th>4</th>\n",
       "      <td>Architecture</td>\n",
       "      <td>41600.0</td>\n",
       "      <td>76800.0</td>\n",
       "      <td>84.6</td>\n",
       "      <td>50600.0</td>\n",
       "      <td>62200.0</td>\n",
       "      <td>97000.0</td>\n",
       "      <td>136000.0</td>\n",
       "    </tr>\n",
       "  </tbody>\n",
       "</table>\n",
       "</div>"
      ],
      "text/plain": [
       "                   Major  Starting Median  Mid-Career Median  \\\n",
       "0             Accounting          46000.0            77100.0   \n",
       "1  Aerospace Engineering          57700.0           101000.0   \n",
       "2            Agriculture          42600.0            71900.0   \n",
       "3           Anthropology          36800.0            61500.0   \n",
       "4           Architecture          41600.0            76800.0   \n",
       "\n",
       "   Start to Mid % Change  Mid-Career 10%  Mid-Career 25%  Mid-Career 75%  \\\n",
       "0                   67.6         42200.0         56100.0        108000.0   \n",
       "1                   75.0         64300.0         82100.0        127000.0   \n",
       "2                   68.8         36300.0         52100.0         96300.0   \n",
       "3                   67.1         33800.0         45500.0         89300.0   \n",
       "4                   84.6         50600.0         62200.0         97000.0   \n",
       "\n",
       "   Mid-Career 90%  \n",
       "0        152000.0  \n",
       "1        161000.0  \n",
       "2        150000.0  \n",
       "3        138000.0  \n",
       "4        136000.0  "
      ]
     },
     "execution_count": 27,
     "metadata": {},
     "output_type": "execute_result"
    }
   ],
   "source": [
    "df_by_major = pd.read_csv('degrees-that-pay-back.csv')\n",
    "\n",
    "#Getting rid of all of the NaN values and replacing them with 0 to make calculations doable.\n",
    "#df_by_major = df_by_major.fillna(0)\n",
    "\n",
    "#Changing all of the columns to floats (Where required)\n",
    "for (columnName, columnData) in df_by_major.iteritems():\n",
    "    if(columnName == 'Percent change from Starting to Mid-Career Salary'): continue\n",
    "    df_by_major[columnName] = df_by_major[columnName].str.replace('$','')\n",
    "    df_by_major[columnName] = df_by_major[columnName].str.replace(',', '')\n",
    "df_by_major = df_by_major.astype({'Starting Median Salary':'float', \n",
    "'Mid-Career Median Salary': 'float', 'Mid-Career 10th Percentile Salary': 'float', \n",
    "'Mid-Career 25th Percentile Salary':'float', 'Mid-Career 75th Percentile Salary':'float', \n",
    "'Mid-Career 90th Percentile Salary':'float'})\n",
    "\n",
    "print(df_by_major.dtypes)\n",
    "\n",
    "#Rename columns to be more concise but still descriptive \n",
    "df_by_major = df_by_major.rename(columns = {'Undergraduate Major':'Major',\n",
    "'Starting Median Salary':'Starting Median', \n",
    "'Mid-Career Median Salary':'Mid-Career Median', \n",
    "'Percent change from Starting to Mid-Career Salary': 'Start to Mid % Change',\n",
    "'Mid-Career 10th Percentile Salary':'Mid-Career 10%',\n",
    "'Mid-Career 25th Percentile Salary':'Mid-Career 25%', \n",
    "'Mid-Career 75th Percentile Salary':'Mid-Career 75%', \n",
    "'Mid-Career 90th Percentile Salary':'Mid-Career 90%'})\n",
    "df_by_major.head()"
   ]
  },
  {
   "attachments": {},
   "cell_type": "markdown",
   "metadata": {},
   "source": [
    "Finally, we can look at the last CSV file, 'salaries-by-region.csv', which details college graduate salaries by region and college. We will perform the same operations on this dataframe, namely, converting values to floats as appropriate, and renaming columns for compatibility across the dataframes."
   ]
  },
  {
   "cell_type": "code",
   "execution_count": 28,
   "metadata": {},
   "outputs": [
    {
     "name": "stdout",
     "output_type": "stream",
     "text": [
      "School Name                           object\n",
      "Region                                object\n",
      "Starting Median Salary               float64\n",
      "Mid-Career Median Salary             float64\n",
      "Mid-Career 10th Percentile Salary    float64\n",
      "Mid-Career 25th Percentile Salary    float64\n",
      "Mid-Career 75th Percentile Salary    float64\n",
      "Mid-Career 90th Percentile Salary    float64\n",
      "dtype: object\n"
     ]
    },
    {
     "name": "stderr",
     "output_type": "stream",
     "text": [
      "C:\\Users\\RishiMain\\AppData\\Local\\Temp\\ipykernel_22104\\3106817859.py:8: FutureWarning: The default value of regex will change from True to False in a future version. In addition, single character regular expressions will *not* be treated as literal strings when regex=True.\n",
      "  df_by_region[columnName] = df_by_region[columnName].str.replace('$','')\n"
     ]
    },
    {
     "data": {
      "text/html": [
       "<div>\n",
       "<style scoped>\n",
       "    .dataframe tbody tr th:only-of-type {\n",
       "        vertical-align: middle;\n",
       "    }\n",
       "\n",
       "    .dataframe tbody tr th {\n",
       "        vertical-align: top;\n",
       "    }\n",
       "\n",
       "    .dataframe thead th {\n",
       "        text-align: right;\n",
       "    }\n",
       "</style>\n",
       "<table border=\"1\" class=\"dataframe\">\n",
       "  <thead>\n",
       "    <tr style=\"text-align: right;\">\n",
       "      <th></th>\n",
       "      <th>School Name</th>\n",
       "      <th>Region</th>\n",
       "      <th>Starting Median</th>\n",
       "      <th>Mid-Career Median</th>\n",
       "      <th>Mid-Career 10%</th>\n",
       "      <th>Mid-Career 25%</th>\n",
       "      <th>Mid-Career 75%</th>\n",
       "      <th>Mid-Career 90%</th>\n",
       "    </tr>\n",
       "  </thead>\n",
       "  <tbody>\n",
       "    <tr>\n",
       "      <th>0</th>\n",
       "      <td>Stanford University</td>\n",
       "      <td>California</td>\n",
       "      <td>70400.0</td>\n",
       "      <td>129000.0</td>\n",
       "      <td>68400.0</td>\n",
       "      <td>93100.0</td>\n",
       "      <td>184000.0</td>\n",
       "      <td>257000.0</td>\n",
       "    </tr>\n",
       "    <tr>\n",
       "      <th>1</th>\n",
       "      <td>California Institute of Technology (CIT)</td>\n",
       "      <td>California</td>\n",
       "      <td>75500.0</td>\n",
       "      <td>123000.0</td>\n",
       "      <td>NaN</td>\n",
       "      <td>104000.0</td>\n",
       "      <td>161000.0</td>\n",
       "      <td>NaN</td>\n",
       "    </tr>\n",
       "    <tr>\n",
       "      <th>2</th>\n",
       "      <td>Harvey Mudd College</td>\n",
       "      <td>California</td>\n",
       "      <td>71800.0</td>\n",
       "      <td>122000.0</td>\n",
       "      <td>NaN</td>\n",
       "      <td>96000.0</td>\n",
       "      <td>180000.0</td>\n",
       "      <td>NaN</td>\n",
       "    </tr>\n",
       "    <tr>\n",
       "      <th>3</th>\n",
       "      <td>University of California Berkeley</td>\n",
       "      <td>California</td>\n",
       "      <td>59900.0</td>\n",
       "      <td>112000.0</td>\n",
       "      <td>59500.0</td>\n",
       "      <td>81000.0</td>\n",
       "      <td>149000.0</td>\n",
       "      <td>201000.0</td>\n",
       "    </tr>\n",
       "    <tr>\n",
       "      <th>4</th>\n",
       "      <td>Occidental College</td>\n",
       "      <td>California</td>\n",
       "      <td>51900.0</td>\n",
       "      <td>105000.0</td>\n",
       "      <td>NaN</td>\n",
       "      <td>54800.0</td>\n",
       "      <td>157000.0</td>\n",
       "      <td>NaN</td>\n",
       "    </tr>\n",
       "  </tbody>\n",
       "</table>\n",
       "</div>"
      ],
      "text/plain": [
       "                                School Name      Region  Starting Median  \\\n",
       "0                       Stanford University  California          70400.0   \n",
       "1  California Institute of Technology (CIT)  California          75500.0   \n",
       "2                       Harvey Mudd College  California          71800.0   \n",
       "3         University of California Berkeley  California          59900.0   \n",
       "4                        Occidental College  California          51900.0   \n",
       "\n",
       "   Mid-Career Median  Mid-Career 10%  Mid-Career 25%  Mid-Career 75%  \\\n",
       "0           129000.0         68400.0         93100.0        184000.0   \n",
       "1           123000.0             NaN        104000.0        161000.0   \n",
       "2           122000.0             NaN         96000.0        180000.0   \n",
       "3           112000.0         59500.0         81000.0        149000.0   \n",
       "4           105000.0             NaN         54800.0        157000.0   \n",
       "\n",
       "   Mid-Career 90%  \n",
       "0        257000.0  \n",
       "1             NaN  \n",
       "2             NaN  \n",
       "3        201000.0  \n",
       "4             NaN  "
      ]
     },
     "execution_count": 28,
     "metadata": {},
     "output_type": "execute_result"
    }
   ],
   "source": [
    "df_by_region = pd.read_csv('salaries-by-region.csv')\n",
    "#Getting rid of all of the NaN values and replacing them with 0 to make calculations doable.\n",
    "#df_by_region = df_by_region.fillna(0)\n",
    "\n",
    "#Converting numerical columns to float values.\n",
    "for (columnName, columnData) in df_by_region.iteritems():\n",
    "    if(columnName == 'Percent change from Starting to Mid-Career Salary'): continue\n",
    "    df_by_region[columnName] = df_by_region[columnName].str.replace('$','')\n",
    "    df_by_region[columnName] = df_by_region[columnName].str.replace(',', '')\n",
    "df_by_region = df_by_region.astype({'Starting Median Salary':'float', \n",
    "'Mid-Career Median Salary': 'float', 'Mid-Career 10th Percentile Salary': 'float', \n",
    "'Mid-Career 25th Percentile Salary':'float', 'Mid-Career 75th Percentile Salary':'float', \n",
    "'Mid-Career 90th Percentile Salary':'float'})\n",
    "\n",
    "print(df_by_region.dtypes)\n",
    "\n",
    "#Rename columns to be more concise but still descriptive \n",
    "df_by_region = df_by_region.rename(columns = {'School Name':'School Name',\n",
    "'Starting Median Salary':'Starting Median', \n",
    "'Mid-Career Median Salary':'Mid-Career Median', \n",
    "'Mid-Career 10th Percentile Salary':'Mid-Career 10%',\n",
    "'Mid-Career 25th Percentile Salary':'Mid-Career 25%', \n",
    "'Mid-Career 75th Percentile Salary':'Mid-Career 75%', \n",
    "'Mid-Career 90th Percentile Salary':'Mid-Career 90%'})\n",
    "df_by_region.head()"
   ]
  },
  {
   "attachments": {},
   "cell_type": "markdown",
   "metadata": {},
   "source": [
    "<h2>Data Management/Representation</h2>\n",
    "Next, we will represent various data from the dataframes to try and understand the tables more, and focus our tutorial. These graphs will provide a visual understanding of what all the dataframes represent."
   ]
  },
  {
   "attachments": {},
   "cell_type": "markdown",
   "metadata": {},
   "source": [
    "First, we want to understand the relationship between region and starting median salary, to see if the region has a heavy effect on new graduates' salaries. To do this, we can create a simple bar graph that will display the median salary ranges of the various regions. "
   ]
  },
  {
   "cell_type": "code",
   "execution_count": 29,
   "metadata": {},
   "outputs": [
    {
     "data": {
      "text/plain": [
       "[]"
      ]
     },
     "execution_count": 29,
     "metadata": {},
     "output_type": "execute_result"
    },
    {
     "data": {
      "image/png": "[encoded data removed]",
      "text/plain": [
       "<Figure size 640x480 with 1 Axes>"
      ]
     },
     "metadata": {},
     "output_type": "display_data"
    }
   ],
   "source": [
    "#plt.figure(figsize = (10,7))\n",
    "plt.title('Region and Starting Median Salary')\n",
    "plt.xlabel('Region')\n",
    "plt.ylabel('Starting Median Salary')\n",
    "plt.bar(df_by_region['Region'], df_by_region['Starting Median'])\n",
    "plt.plot()"
   ]
  },
  {
   "attachments": {},
   "cell_type": "markdown",
   "metadata": {},
   "source": [
    "Here, we see that California universities have the highest starting median salary, followed closely by colleges in the Northeast. \n",
    "\n",
    "It is likely that a high percentage of students decide to live within the same region/state where they went to school. Since California and the Northeast are more expensive to live in than the other three regions, it makes sense that the starting median salary for students attending universities in either of the two regions is also higher. \n",
    "\n",
    "California and the Northeast might also have a higher percentage of prestigious schools than the other regions"
   ]
  },
  {
   "attachments": {},
   "cell_type": "markdown",
   "metadata": {},
   "source": [
    "Now we will replicate the Median Salary vs Region graph, except for Mid Career instead of Starting"
   ]
  },
  {
   "cell_type": "code",
   "execution_count": 30,
   "metadata": {},
   "outputs": [
    {
     "data": {
      "text/plain": [
       "[]"
      ]
     },
     "execution_count": 30,
     "metadata": {},
     "output_type": "execute_result"
    },
    {
     "data": {
      "image/png": "[encoded data removed]",
      "text/plain": [
       "<Figure size 640x480 with 1 Axes>"
      ]
     },
     "metadata": {},
     "output_type": "display_data"
    }
   ],
   "source": [
    "#plt.figure(figsize = (10,7))\n",
    "plt.title('Region and Mid-Career Median Salary')\n",
    "plt.xlabel('Region')\n",
    "plt.ylabel('Mid-Career Median Salary')\n",
    "plt.bar(df_by_region['Region'], df_by_region['Mid-Career Median'])\n",
    "plt.plot()"
   ]
  },
  {
   "attachments": {},
   "cell_type": "markdown",
   "metadata": {},
   "source": [
    "Here we see that although California universities have the highest starting median salary, Northeastern universities have the highest mid career median salary. "
   ]
  },
  {
   "attachments": {},
   "cell_type": "markdown",
   "metadata": {},
   "source": [
    "School Type vs. Starting Median"
   ]
  },
  {
   "cell_type": "code",
   "execution_count": 31,
   "metadata": {},
   "outputs": [
    {
     "data": {
      "text/plain": [
       "[]"
      ]
     },
     "execution_count": 31,
     "metadata": {},
     "output_type": "execute_result"
    },
    {
     "data": {
      "image/png": "[encoded data removed]",
      "text/plain": [
       "<Figure size 640x480 with 1 Axes>"
      ]
     },
     "metadata": {},
     "output_type": "display_data"
    }
   ],
   "source": [
    "#plt.figure(figsize = (10,7))\n",
    "plt.title('School Type and Starting Median Salary')\n",
    "plt.xlabel('School Type')\n",
    "plt.ylabel('Starting Median Salary')\n",
    "plt.bar(df_by_colleges['School Type'], df_by_colleges['Starting Median'])\n",
    "plt.plot()"
   ]
  },
  {
   "attachments": {},
   "cell_type": "markdown",
   "metadata": {},
   "source": [
    "School Type vs. Mid-Career Median"
   ]
  },
  {
   "cell_type": "code",
   "execution_count": 32,
   "metadata": {},
   "outputs": [
    {
     "data": {
      "text/plain": [
       "[]"
      ]
     },
     "execution_count": 32,
     "metadata": {},
     "output_type": "execute_result"
    },
    {
     "data": {
      "image/png": "[encoded data removed]",
      "text/plain": [
       "<Figure size 640x480 with 1 Axes>"
      ]
     },
     "metadata": {},
     "output_type": "display_data"
    }
   ],
   "source": [
    "#plt.figure(figsize = (10,7))\n",
    "plt.title('School Type and Mid-Career Median Salary')\n",
    "plt.xlabel('School Type')\n",
    "plt.ylabel('Mid-Career Median Salary')\n",
    "plt.bar(df_by_colleges['School Type'], df_by_colleges['Mid-Career Median'])\n",
    "plt.plot()"
   ]
  },
  {
   "attachments": {},
   "cell_type": "markdown",
   "metadata": {},
   "source": [
    "We notice that the starting median salary from Engineering schools is higher than that of Ivy League, but the mid career median salary of Engineering schools is lower than that of Ivy League. This is a trend similar to what we noticed in California-Northeastern school salaries."
   ]
  },
  {
   "attachments": {},
   "cell_type": "markdown",
   "metadata": {},
   "source": [
    "Major vs Salary analysis"
   ]
  },
  {
   "cell_type": "code",
   "execution_count": 33,
   "metadata": {},
   "outputs": [
    {
     "data": {
      "text/plain": [
       "0                      Physician Assistant\n",
       "1                     Chemical Engineering\n",
       "2                     Computer Engineering\n",
       "3                   Electrical Engineering\n",
       "4                   Mechanical Engineering\n",
       "5                    Aerospace Engineering\n",
       "6                   Industrial Engineering\n",
       "7                         Computer Science\n",
       "8                                  Nursing\n",
       "9                        Civil Engineering\n",
       "10                            Construction\n",
       "11                                 Physics\n",
       "12                               Economics\n",
       "13    Management Information Systems (MIS)\n",
       "14             Information Technology (IT)\n",
       "15                                 Finance\n",
       "16                              Accounting\n",
       "17                                    Math\n",
       "18                                 Geology\n",
       "19                     Business Management\n",
       "20                             Agriculture\n",
       "21                               Chemistry\n",
       "22                            Architecture\n",
       "23                               Geography\n",
       "24                 International Relations\n",
       "25                       Political Science\n",
       "26                               Marketing\n",
       "27                              Philosophy\n",
       "28                               Nutrition\n",
       "29                                 History\n",
       "30                                Forestry\n",
       "31              Health Care Administration\n",
       "32                                 Biology\n",
       "33                          Communications\n",
       "34                                 English\n",
       "35                                    Film\n",
       "36                   Hospitality & Tourism\n",
       "37                            Anthropology\n",
       "38                               Sociology\n",
       "39                         Interior Design\n",
       "40                              Psychology\n",
       "41                                   Music\n",
       "42                                   Drama\n",
       "43                             Art History\n",
       "44                          Graphic Design\n",
       "45                              Journalism\n",
       "46                        Criminal Justice\n",
       "47                               Education\n",
       "48                                Religion\n",
       "49                                 Spanish\n",
       "Name: Major, dtype: object"
      ]
     },
     "execution_count": 33,
     "metadata": {},
     "output_type": "execute_result"
    }
   ],
   "source": [
    "#Initial analysis on major - salary.\n",
    "    #Theres a lot of majors so I couldnt think of a way to graph this\n",
    "    #For now I just made two lists sorted in descending order of start and mid salary respectively\n",
    "\n",
    "#Start\n",
    "starting_order = df_by_major.sort_values(by = 'Starting Median', ascending = False)['Major'].reset_index(drop = True)\n",
    "starting_order"
   ]
  },
  {
   "cell_type": "code",
   "execution_count": 34,
   "metadata": {},
   "outputs": [],
   "source": [
    "#Create Scatterplot"
   ]
  },
  {
   "attachments": {},
   "cell_type": "markdown",
   "metadata": {},
   "source": [
    "For our final data representation, we wanted to showcase the changes in salaries as time goes on using a boxplot, as this would show outliers, median, and the varying quartiles as well. "
   ]
  },
  {
   "cell_type": "code",
   "execution_count": 38,
   "metadata": {},
   "outputs": [
    {
     "data": {
      "image/png": "[encoded data removed]",
      "text/plain": [
       "<Figure size 800x800 with 1 Axes>"
      ]
     },
     "metadata": {},
     "output_type": "display_data"
    }
   ],
   "source": [
    "plt.figure(figsize=(8,8))\n",
    "lst = [df_by_major['Starting Median'], df_by_major['Mid-Career Median'], df_by_major['Mid-Career 90%']]\n",
    "plt.boxplot(lst)\n",
    "plt.show()"
   ]
  },
  {
   "cell_type": "markdown",
   "metadata": {},
   "source": []
  },
  {
   "attachments": {},
   "cell_type": "markdown",
   "metadata": {},
   "source": [
    "<h2>"
   ]
  }
 ],
 "metadata": {
  "kernelspec": {
   "display_name": "Python 3",
   "language": "python",
   "name": "python3"
  },
  "language_info": {
   "codemirror_mode": {
    "name": "ipython",
    "version": 3
   },
   "file_extension": ".py",
   "mimetype": "text/x-python",
   "name": "python",
   "nbconvert_exporter": "python",
   "pygments_lexer": "ipython3",
   "version": "3.9.13"
  },
  "orig_nbformat": 4,
  "vscode": {
   "interpreter": {
    "hash": "b85a7733dd36362a862e48a6272c18b8e71382a97f968703b4460e41236c979a"
   }
  }
 },
 "nbformat": 4,
 "nbformat_minor": 2
}
