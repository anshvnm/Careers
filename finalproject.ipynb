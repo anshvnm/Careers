{
 "cells": [
  {
   "cell_type": "markdown",
   "metadata": {},
   "source": [
    "<h2><center>Final Project: Where it Pays to Attend College</center></h2>"
   ]
  },
  {
   "cell_type": "markdown",
   "metadata": {},
   "source": [
    "<h3><center>By Ansh Vanam and Rishi Mullangi<center></h3>"
   ]
  },
  {
   "cell_type": "markdown",
   "metadata": {},
   "source": [
    "<h2>Introduction</h2>"
   ]
  },
  {
   "attachments": {},
   "cell_type": "markdown",
   "metadata": {},
   "source": [
    "For our final project, we have decided to work with a dataset that contains salaries of various college graduates based on major, type of school (private, public), and region. The dataset we chose has three separate CSV files, \"salaries-by-college-type.csv\", \"salaries-by-region.csv\", and \"degrees-that-pay-back.csv\". These CSV files contain data from graduating up to their mid-career, including percentiles ranging from 10-90. \n",
    "\n",
    "Throughout this tutorial, we want to investigate a couple of questions: \n",
    "\n",
    "1. What factors affect Mid-Career Salaries, and is it heavily dependant on starting salary? \n",
    "\n",
    "2. Is there a relationship between earning potential and college type/region?\n",
    "\n",
    "3. Do the majors that have the highest starting salary have the highest mid career salaries, and vice vesa?"
   ]
  },
  {
   "attachments": {},
   "cell_type": "markdown",
   "metadata": {},
   "source": [
    "Using these CSV files, we plan to look into how these variables affect the salaries of students, and how these factors can affect choices of students looking to go into college. After that, we plan to make a prediction model that will project average Mid-Career  salaries based on region and starting median salaries. \n",
    "\n",
    "Our first step is to navigate to this Kaggle dataset, created by the Wall Street Journal:\n",
    "\n",
    "https://www.kaggle.com/datasets/wsj/college-salaries/code?resource=download&select=salaries-by-college-type.csv\n",
    "\n",
    "From here, we can download the three CSV files and import them into our code editor. Then, we use pandas to create dataframes out of the CSV files. "
   ]
  },
  {
   "cell_type": "markdown",
   "metadata": {},
   "source": [
    "Note: Ensure you have the following python libraries installed on your system and the CSV files downloaded to run the tutorial."
   ]
  },
  {
   "attachments": {},
   "cell_type": "markdown",
   "metadata": {},
   "source": [
    "Pandas documentation - https://pandas.pydata.org/docs/ \n",
    "\n",
    "Seaborn documentation - https://seaborn.pydata.org\n",
    "\n",
    "Numpy documentation - https://numpy.org/doc/ \n",
    "\n",
    "Matplotlib documentation - https://matplotlib.org/stable/index.html \n",
    "\n",
    "Sklearn Documentation: https://scikit-learn.org/stable/"
   ]
  },
  {
   "cell_type": "code",
   "execution_count": 88,
   "metadata": {},
   "outputs": [],
   "source": [
    "#Importing our required libraries\n",
    "import pandas as pd\n",
    "import numpy as np\n",
    "import statsmodels.api as stm\n",
    "import matplotlib.pyplot as plt\n",
    "import warnings\n",
    "warnings.simplefilter(action='ignore', category=FutureWarning)\n",
    "from matplotlib.pyplot import figure\n",
    "import seaborn as sns \n",
    "from sklearn.model_selection import train_test_split, cross_val_score\n",
    "from sklearn import svm"
   ]
  },
  {
   "attachments": {},
   "cell_type": "markdown",
   "metadata": {},
   "source": [
    "<h2>Obtaining and Cleaning Data</h2>"
   ]
  },
  {
   "attachments": {},
   "cell_type": "markdown",
   "metadata": {},
   "source": [
    "The first table we're looking at is salaries-by-college-type, which details the names of various colleges as well as their School Type. In the next python block we will work on cleaning the data and making it more useable. First, we need to change the values to floats so that we can do operations on them. Then, we change the names of the columns to be more clear and correspond well with the other dataframes we will initialize."
   ]
  },
  {
   "cell_type": "code",
   "execution_count": 89,
   "metadata": {},
   "outputs": [
    {
     "name": "stdout",
     "output_type": "stream",
     "text": [
      "School Name                           object\n",
      "School Type                           object\n",
      "Starting Median Salary               float64\n",
      "Mid-Career Median Salary             float64\n",
      "Mid-Career 10th Percentile Salary    float64\n",
      "Mid-Career 25th Percentile Salary    float64\n",
      "Mid-Career 75th Percentile Salary    float64\n",
      "Mid-Career 90th Percentile Salary    float64\n",
      "dtype: object\n"
     ]
    },
    {
     "data": {
      "text/html": [
       "<div>\n",
       "<style scoped>\n",
       "    .dataframe tbody tr th:only-of-type {\n",
       "        vertical-align: middle;\n",
       "    }\n",
       "\n",
       "    .dataframe tbody tr th {\n",
       "        vertical-align: top;\n",
       "    }\n",
       "\n",
       "    .dataframe thead th {\n",
       "        text-align: right;\n",
       "    }\n",
       "</style>\n",
       "<table border=\"1\" class=\"dataframe\">\n",
       "  <thead>\n",
       "    <tr style=\"text-align: right;\">\n",
       "      <th></th>\n",
       "      <th>School Name</th>\n",
       "      <th>School Type</th>\n",
       "      <th>Starting Median</th>\n",
       "      <th>Mid-Career Median</th>\n",
       "      <th>Mid-Career 10%</th>\n",
       "      <th>Mid-Career 25%</th>\n",
       "      <th>Mid-Career 75%</th>\n",
       "      <th>Mid-Career 90%</th>\n",
       "    </tr>\n",
       "  </thead>\n",
       "  <tbody>\n",
       "    <tr>\n",
       "      <th>0</th>\n",
       "      <td>Massachusetts Institute of Technology (MIT)</td>\n",
       "      <td>Engineering</td>\n",
       "      <td>72200.0</td>\n",
       "      <td>126000.0</td>\n",
       "      <td>76800.0</td>\n",
       "      <td>99200.0</td>\n",
       "      <td>168000.0</td>\n",
       "      <td>220000.0</td>\n",
       "    </tr>\n",
       "    <tr>\n",
       "      <th>1</th>\n",
       "      <td>California Institute of Technology (CIT)</td>\n",
       "      <td>Engineering</td>\n",
       "      <td>75500.0</td>\n",
       "      <td>123000.0</td>\n",
       "      <td>NaN</td>\n",
       "      <td>104000.0</td>\n",
       "      <td>161000.0</td>\n",
       "      <td>NaN</td>\n",
       "    </tr>\n",
       "    <tr>\n",
       "      <th>2</th>\n",
       "      <td>Harvey Mudd College</td>\n",
       "      <td>Engineering</td>\n",
       "      <td>71800.0</td>\n",
       "      <td>122000.0</td>\n",
       "      <td>NaN</td>\n",
       "      <td>96000.0</td>\n",
       "      <td>180000.0</td>\n",
       "      <td>NaN</td>\n",
       "    </tr>\n",
       "    <tr>\n",
       "      <th>3</th>\n",
       "      <td>Polytechnic University of New York Brooklyn</td>\n",
       "      <td>Engineering</td>\n",
       "      <td>62400.0</td>\n",
       "      <td>114000.0</td>\n",
       "      <td>66800.0</td>\n",
       "      <td>94300.0</td>\n",
       "      <td>143000.0</td>\n",
       "      <td>190000.0</td>\n",
       "    </tr>\n",
       "    <tr>\n",
       "      <th>4</th>\n",
       "      <td>Cooper Union</td>\n",
       "      <td>Engineering</td>\n",
       "      <td>62200.0</td>\n",
       "      <td>114000.0</td>\n",
       "      <td>NaN</td>\n",
       "      <td>80200.0</td>\n",
       "      <td>142000.0</td>\n",
       "      <td>NaN</td>\n",
       "    </tr>\n",
       "  </tbody>\n",
       "</table>\n",
       "</div>"
      ],
      "text/plain": [
       "                                   School Name  School Type  Starting Median  \\\n",
       "0  Massachusetts Institute of Technology (MIT)  Engineering          72200.0   \n",
       "1     California Institute of Technology (CIT)  Engineering          75500.0   \n",
       "2                          Harvey Mudd College  Engineering          71800.0   \n",
       "3  Polytechnic University of New York Brooklyn  Engineering          62400.0   \n",
       "4                                 Cooper Union  Engineering          62200.0   \n",
       "\n",
       "   Mid-Career Median  Mid-Career 10%  Mid-Career 25%  Mid-Career 75%  \\\n",
       "0           126000.0         76800.0         99200.0        168000.0   \n",
       "1           123000.0             NaN        104000.0        161000.0   \n",
       "2           122000.0             NaN         96000.0        180000.0   \n",
       "3           114000.0         66800.0         94300.0        143000.0   \n",
       "4           114000.0             NaN         80200.0        142000.0   \n",
       "\n",
       "   Mid-Career 90%  \n",
       "0        220000.0  \n",
       "1             NaN  \n",
       "2             NaN  \n",
       "3        190000.0  \n",
       "4             NaN  "
      ]
     },
     "execution_count": 89,
     "metadata": {},
     "output_type": "execute_result"
    }
   ],
   "source": [
    "#Reading in the CSV file and converting it to a dataframe using pandas\n",
    "df_by_colleges = pd.read_csv('salaries-by-college-type.csv')\n",
    "\n",
    "#Getting rid of $ signs as well as commas so that we can convert values to floats. \n",
    "for (columnName, columnData) in df_by_colleges.iteritems():\n",
    "    df_by_colleges[columnName] = df_by_colleges[columnName].str.replace('$','')\n",
    "    df_by_colleges[columnName] = df_by_colleges[columnName].str.replace(',', '')\n",
    "df_by_colleges = df_by_colleges.astype({'Starting Median Salary':'float', \n",
    "'Mid-Career Median Salary': 'float', 'Mid-Career 10th Percentile Salary': 'float', \n",
    "'Mid-Career 25th Percentile Salary':'float', 'Mid-Career 75th Percentile Salary':'float', \n",
    "'Mid-Career 90th Percentile Salary':'float'})\n",
    "\n",
    "print(df_by_colleges.dtypes)\n",
    "\n",
    "#Rename columns to be more concise but still descriptive \n",
    "df_by_colleges = df_by_colleges.rename(columns = {'School Name':'School Name',\n",
    "'School Type':'School Type','Starting Median Salary':'Starting Median', \n",
    "'Mid-Career Median Salary':'Mid-Career Median', \n",
    "'Mid-Career 10th Percentile Salary':'Mid-Career 10%',\n",
    "'Mid-Career 25th Percentile Salary':'Mid-Career 25%', \n",
    "'Mid-Career 75th Percentile Salary':'Mid-Career 75%', \n",
    "'Mid-Career 90th Percentile Salary':'Mid-Career 90%'})\n",
    "df_by_colleges.head()"
   ]
  },
  {
   "attachments": {},
   "cell_type": "markdown",
   "metadata": {},
   "source": [
    "Now that we've cleaned up our first table by converting the values that are numerical to floats, we can move on to the next table, 'degrees-that-pay-back.csv', which details undergraduate major's median starting salary in relation to their undergraduate major, mid-career median salary, and other useful information that we can use later on in the tutorial. We will stick to the same column renaming conventions so that the column names remain aligned across the different dataframes"
   ]
  },
  {
   "cell_type": "code",
   "execution_count": 90,
   "metadata": {},
   "outputs": [
    {
     "name": "stdout",
     "output_type": "stream",
     "text": [
      "Undergraduate Major                                   object\n",
      "Starting Median Salary                               float64\n",
      "Mid-Career Median Salary                             float64\n",
      "Percent change from Starting to Mid-Career Salary    float64\n",
      "Mid-Career 10th Percentile Salary                    float64\n",
      "Mid-Career 25th Percentile Salary                    float64\n",
      "Mid-Career 75th Percentile Salary                    float64\n",
      "Mid-Career 90th Percentile Salary                    float64\n",
      "dtype: object\n"
     ]
    },
    {
     "data": {
      "text/html": [
       "<div>\n",
       "<style scoped>\n",
       "    .dataframe tbody tr th:only-of-type {\n",
       "        vertical-align: middle;\n",
       "    }\n",
       "\n",
       "    .dataframe tbody tr th {\n",
       "        vertical-align: top;\n",
       "    }\n",
       "\n",
       "    .dataframe thead th {\n",
       "        text-align: right;\n",
       "    }\n",
       "</style>\n",
       "<table border=\"1\" class=\"dataframe\">\n",
       "  <thead>\n",
       "    <tr style=\"text-align: right;\">\n",
       "      <th></th>\n",
       "      <th>Major</th>\n",
       "      <th>Starting Median</th>\n",
       "      <th>Mid-Career Median</th>\n",
       "      <th>Start to Mid % Change</th>\n",
       "      <th>Mid-Career 10%</th>\n",
       "      <th>Mid-Career 25%</th>\n",
       "      <th>Mid-Career 75%</th>\n",
       "      <th>Mid-Career 90%</th>\n",
       "    </tr>\n",
       "  </thead>\n",
       "  <tbody>\n",
       "    <tr>\n",
       "      <th>0</th>\n",
       "      <td>Accounting</td>\n",
       "      <td>46000.0</td>\n",
       "      <td>77100.0</td>\n",
       "      <td>67.6</td>\n",
       "      <td>42200.0</td>\n",
       "      <td>56100.0</td>\n",
       "      <td>108000.0</td>\n",
       "      <td>152000.0</td>\n",
       "    </tr>\n",
       "    <tr>\n",
       "      <th>1</th>\n",
       "      <td>Aerospace Engineering</td>\n",
       "      <td>57700.0</td>\n",
       "      <td>101000.0</td>\n",
       "      <td>75.0</td>\n",
       "      <td>64300.0</td>\n",
       "      <td>82100.0</td>\n",
       "      <td>127000.0</td>\n",
       "      <td>161000.0</td>\n",
       "    </tr>\n",
       "    <tr>\n",
       "      <th>2</th>\n",
       "      <td>Agriculture</td>\n",
       "      <td>42600.0</td>\n",
       "      <td>71900.0</td>\n",
       "      <td>68.8</td>\n",
       "      <td>36300.0</td>\n",
       "      <td>52100.0</td>\n",
       "      <td>96300.0</td>\n",
       "      <td>150000.0</td>\n",
       "    </tr>\n",
       "    <tr>\n",
       "      <th>3</th>\n",
       "      <td>Anthropology</td>\n",
       "      <td>36800.0</td>\n",
       "      <td>61500.0</td>\n",
       "      <td>67.1</td>\n",
       "      <td>33800.0</td>\n",
       "      <td>45500.0</td>\n",
       "      <td>89300.0</td>\n",
       "      <td>138000.0</td>\n",
       "    </tr>\n",
       "    <tr>\n",
       "      <th>4</th>\n",
       "      <td>Architecture</td>\n",
       "      <td>41600.0</td>\n",
       "      <td>76800.0</td>\n",
       "      <td>84.6</td>\n",
       "      <td>50600.0</td>\n",
       "      <td>62200.0</td>\n",
       "      <td>97000.0</td>\n",
       "      <td>136000.0</td>\n",
       "    </tr>\n",
       "  </tbody>\n",
       "</table>\n",
       "</div>"
      ],
      "text/plain": [
       "                   Major  Starting Median  Mid-Career Median  \\\n",
       "0             Accounting          46000.0            77100.0   \n",
       "1  Aerospace Engineering          57700.0           101000.0   \n",
       "2            Agriculture          42600.0            71900.0   \n",
       "3           Anthropology          36800.0            61500.0   \n",
       "4           Architecture          41600.0            76800.0   \n",
       "\n",
       "   Start to Mid % Change  Mid-Career 10%  Mid-Career 25%  Mid-Career 75%  \\\n",
       "0                   67.6         42200.0         56100.0        108000.0   \n",
       "1                   75.0         64300.0         82100.0        127000.0   \n",
       "2                   68.8         36300.0         52100.0         96300.0   \n",
       "3                   67.1         33800.0         45500.0         89300.0   \n",
       "4                   84.6         50600.0         62200.0         97000.0   \n",
       "\n",
       "   Mid-Career 90%  \n",
       "0        152000.0  \n",
       "1        161000.0  \n",
       "2        150000.0  \n",
       "3        138000.0  \n",
       "4        136000.0  "
      ]
     },
     "execution_count": 90,
     "metadata": {},
     "output_type": "execute_result"
    }
   ],
   "source": [
    "#Reading in the CSV file and converting it to a dataframe using pandas\n",
    "df_by_major = pd.read_csv('degrees-that-pay-back.csv')\n",
    "\n",
    "#Changing all of the columns to floats (Where required)\n",
    "for (columnName, columnData) in df_by_major.iteritems():\n",
    "    if(columnName == 'Percent change from Starting to Mid-Career Salary'): continue\n",
    "    df_by_major[columnName] = df_by_major[columnName].str.replace('$','')\n",
    "    df_by_major[columnName] = df_by_major[columnName].str.replace(',', '')\n",
    "df_by_major = df_by_major.astype({'Starting Median Salary':'float', \n",
    "'Mid-Career Median Salary': 'float', 'Mid-Career 10th Percentile Salary': 'float', \n",
    "'Mid-Career 25th Percentile Salary':'float', 'Mid-Career 75th Percentile Salary':'float', \n",
    "'Mid-Career 90th Percentile Salary':'float'})\n",
    "\n",
    "print(df_by_major.dtypes)\n",
    "\n",
    "#Rename columns to be more concise but still descriptive \n",
    "df_by_major = df_by_major.rename(columns = {'Undergraduate Major':'Major',\n",
    "'Starting Median Salary':'Starting Median', \n",
    "'Mid-Career Median Salary':'Mid-Career Median', \n",
    "'Percent change from Starting to Mid-Career Salary': 'Start to Mid % Change',\n",
    "'Mid-Career 10th Percentile Salary':'Mid-Career 10%',\n",
    "'Mid-Career 25th Percentile Salary':'Mid-Career 25%', \n",
    "'Mid-Career 75th Percentile Salary':'Mid-Career 75%', \n",
    "'Mid-Career 90th Percentile Salary':'Mid-Career 90%'})\n",
    "df_by_major.head()"
   ]
  },
  {
   "attachments": {},
   "cell_type": "markdown",
   "metadata": {},
   "source": [
    "Finally, we can look at the last CSV file, 'salaries-by-region.csv', which details college graduate salaries by region and college. We will perform the same operations on this dataframe, namely, converting values to floats as appropriate, and renaming columns for compatibility across the dataframes."
   ]
  },
  {
   "cell_type": "code",
   "execution_count": 91,
   "metadata": {},
   "outputs": [
    {
     "name": "stdout",
     "output_type": "stream",
     "text": [
      "School Name                           object\n",
      "Region                                object\n",
      "Starting Median Salary               float64\n",
      "Mid-Career Median Salary             float64\n",
      "Mid-Career 10th Percentile Salary    float64\n",
      "Mid-Career 25th Percentile Salary    float64\n",
      "Mid-Career 75th Percentile Salary    float64\n",
      "Mid-Career 90th Percentile Salary    float64\n",
      "dtype: object\n"
     ]
    },
    {
     "data": {
      "text/html": [
       "<div>\n",
       "<style scoped>\n",
       "    .dataframe tbody tr th:only-of-type {\n",
       "        vertical-align: middle;\n",
       "    }\n",
       "\n",
       "    .dataframe tbody tr th {\n",
       "        vertical-align: top;\n",
       "    }\n",
       "\n",
       "    .dataframe thead th {\n",
       "        text-align: right;\n",
       "    }\n",
       "</style>\n",
       "<table border=\"1\" class=\"dataframe\">\n",
       "  <thead>\n",
       "    <tr style=\"text-align: right;\">\n",
       "      <th></th>\n",
       "      <th>School Name</th>\n",
       "      <th>Region</th>\n",
       "      <th>Starting Median</th>\n",
       "      <th>Mid-Career Median</th>\n",
       "      <th>Mid-Career 10%</th>\n",
       "      <th>Mid-Career 25%</th>\n",
       "      <th>Mid-Career 75%</th>\n",
       "      <th>Mid-Career 90%</th>\n",
       "    </tr>\n",
       "  </thead>\n",
       "  <tbody>\n",
       "    <tr>\n",
       "      <th>0</th>\n",
       "      <td>Stanford University</td>\n",
       "      <td>California</td>\n",
       "      <td>70400.0</td>\n",
       "      <td>129000.0</td>\n",
       "      <td>68400.0</td>\n",
       "      <td>93100.0</td>\n",
       "      <td>184000.0</td>\n",
       "      <td>257000.0</td>\n",
       "    </tr>\n",
       "    <tr>\n",
       "      <th>1</th>\n",
       "      <td>California Institute of Technology (CIT)</td>\n",
       "      <td>California</td>\n",
       "      <td>75500.0</td>\n",
       "      <td>123000.0</td>\n",
       "      <td>NaN</td>\n",
       "      <td>104000.0</td>\n",
       "      <td>161000.0</td>\n",
       "      <td>NaN</td>\n",
       "    </tr>\n",
       "    <tr>\n",
       "      <th>2</th>\n",
       "      <td>Harvey Mudd College</td>\n",
       "      <td>California</td>\n",
       "      <td>71800.0</td>\n",
       "      <td>122000.0</td>\n",
       "      <td>NaN</td>\n",
       "      <td>96000.0</td>\n",
       "      <td>180000.0</td>\n",
       "      <td>NaN</td>\n",
       "    </tr>\n",
       "    <tr>\n",
       "      <th>3</th>\n",
       "      <td>University of California Berkeley</td>\n",
       "      <td>California</td>\n",
       "      <td>59900.0</td>\n",
       "      <td>112000.0</td>\n",
       "      <td>59500.0</td>\n",
       "      <td>81000.0</td>\n",
       "      <td>149000.0</td>\n",
       "      <td>201000.0</td>\n",
       "    </tr>\n",
       "    <tr>\n",
       "      <th>4</th>\n",
       "      <td>Occidental College</td>\n",
       "      <td>California</td>\n",
       "      <td>51900.0</td>\n",
       "      <td>105000.0</td>\n",
       "      <td>NaN</td>\n",
       "      <td>54800.0</td>\n",
       "      <td>157000.0</td>\n",
       "      <td>NaN</td>\n",
       "    </tr>\n",
       "  </tbody>\n",
       "</table>\n",
       "</div>"
      ],
      "text/plain": [
       "                                School Name      Region  Starting Median  \\\n",
       "0                       Stanford University  California          70400.0   \n",
       "1  California Institute of Technology (CIT)  California          75500.0   \n",
       "2                       Harvey Mudd College  California          71800.0   \n",
       "3         University of California Berkeley  California          59900.0   \n",
       "4                        Occidental College  California          51900.0   \n",
       "\n",
       "   Mid-Career Median  Mid-Career 10%  Mid-Career 25%  Mid-Career 75%  \\\n",
       "0           129000.0         68400.0         93100.0        184000.0   \n",
       "1           123000.0             NaN        104000.0        161000.0   \n",
       "2           122000.0             NaN         96000.0        180000.0   \n",
       "3           112000.0         59500.0         81000.0        149000.0   \n",
       "4           105000.0             NaN         54800.0        157000.0   \n",
       "\n",
       "   Mid-Career 90%  \n",
       "0        257000.0  \n",
       "1             NaN  \n",
       "2             NaN  \n",
       "3        201000.0  \n",
       "4             NaN  "
      ]
     },
     "execution_count": 91,
     "metadata": {},
     "output_type": "execute_result"
    }
   ],
   "source": [
    "#Reading in the CSV file and converting it to a dataframe using pandas\n",
    "df_by_region = pd.read_csv('salaries-by-region.csv')\n",
    "\n",
    "#Converting numerical columns to float values.\n",
    "for (columnName, columnData) in df_by_region.iteritems():\n",
    "    if(columnName == 'Percent change from Starting to Mid-Career Salary'): continue\n",
    "    df_by_region[columnName] = df_by_region[columnName].str.replace('$','')\n",
    "    df_by_region[columnName] = df_by_region[columnName].str.replace(',', '')\n",
    "df_by_region = df_by_region.astype({'Starting Median Salary':'float', \n",
    "'Mid-Career Median Salary': 'float', 'Mid-Career 10th Percentile Salary': 'float', \n",
    "'Mid-Career 25th Percentile Salary':'float', 'Mid-Career 75th Percentile Salary':'float', \n",
    "'Mid-Career 90th Percentile Salary':'float'})\n",
    "\n",
    "print(df_by_region.dtypes)\n",
    "\n",
    "#Rename columns to be more concise but still descriptive \n",
    "df_by_region = df_by_region.rename(columns = {'School Name':'School Name',\n",
    "'Starting Median Salary':'Starting Median', \n",
    "'Mid-Career Median Salary':'Mid-Career Median', \n",
    "'Mid-Career 10th Percentile Salary':'Mid-Career 10%',\n",
    "'Mid-Career 25th Percentile Salary':'Mid-Career 25%', \n",
    "'Mid-Career 75th Percentile Salary':'Mid-Career 75%', \n",
    "'Mid-Career 90th Percentile Salary':'Mid-Career 90%'})\n",
    "df_by_region.head()"
   ]
  },
  {
   "attachments": {},
   "cell_type": "markdown",
   "metadata": {},
   "source": [
    "<h2>Data Management/Representation</h2>\n",
    "Next, we will represent various data from the dataframes to try and understand the tables more, and focus our tutorial. These graphs will provide a visual understanding of what all the dataframes represent."
   ]
  },
  {
   "attachments": {},
   "cell_type": "markdown",
   "metadata": {},
   "source": [
    "First, we want to understand the relationship between region and starting median salary, to see if the region has a heavy effect on new graduates' salaries. To do this, we can create a simple bar graph that will display the median salary ranges of the various regions. "
   ]
  },
  {
   "cell_type": "code",
   "execution_count": 92,
   "metadata": {},
   "outputs": [
    {
     "data": {
      "text/plain": [
       "[]"
      ]
     },
     "execution_count": 92,
     "metadata": {},
     "output_type": "execute_result"
    },
    {
     "data": {
      "image/png": "[encoded data removed]",
      "text/plain": [
       "<Figure size 640x480 with 1 Axes>"
      ]
     },
     "metadata": {},
     "output_type": "display_data"
    }
   ],
   "source": [
    "#plt.figure(figsize = (10,7))\n",
    "plt.title('Region and Starting Median Salary')\n",
    "plt.xlabel('Region')\n",
    "plt.ylabel('Starting Median Salary')\n",
    "plt.bar(df_by_region['Region'], df_by_region['Starting Median'])\n",
    "plt.plot()"
   ]
  },
  {
   "attachments": {},
   "cell_type": "markdown",
   "metadata": {},
   "source": [
    "Here, we see that California universities have the highest starting median salary, followed closely by colleges in the Northeast. \n",
    "\n",
    "It is likely that a high percentage of students decide to live within the same region/state where they went to school. Since California and the Northeast are more expensive to live in than the other three regions, it makes sense that the starting median salary for students attending universities in either of the two regions is also higher. \n",
    "\n",
    "California and the Northeast might also have a higher percentage of prestigious schools than the other regions, which lead to better job offers as well as more companies hiring from these locations. Since California is considered a tech hub, it makes sense that their starting salary is the highest of the five regions, as lots of major tech companies that pay well hire from Californian schools. "
   ]
  },
  {
   "attachments": {},
   "cell_type": "markdown",
   "metadata": {},
   "source": [
    "Now we will replicate the Median Salary vs Region graph, except for Mid Career instead of Starting, to see how careers progress over time in the various regions. "
   ]
  },
  {
   "cell_type": "code",
   "execution_count": 93,
   "metadata": {},
   "outputs": [
    {
     "data": {
      "text/plain": [
       "[]"
      ]
     },
     "execution_count": 93,
     "metadata": {},
     "output_type": "execute_result"
    },
    {
     "data": {
      "image/png": "[encoded data removed]",
      "text/plain": [
       "<Figure size 640x480 with 1 Axes>"
      ]
     },
     "metadata": {},
     "output_type": "display_data"
    }
   ],
   "source": [
    "#plt.figure(figsize = (10,7))\n",
    "plt.title('Region and Mid-Career Median Salary')\n",
    "plt.xlabel('Region')\n",
    "plt.ylabel('Mid-Career Median Salary')\n",
    "plt.bar(df_by_region['Region'], df_by_region['Mid-Career Median'])\n",
    "plt.plot()"
   ]
  },
  {
   "attachments": {},
   "cell_type": "markdown",
   "metadata": {},
   "source": [
    "Here we see that although California universities have the highest starting median salary, Northeastern universities have the highest mid career median salary. This gives us insight into how although Californian schools boast a high starting wage, a worker may be better off shifting to the Northeast region if they want to maximize their pay during their Mid-Career years. "
   ]
  },
  {
   "attachments": {},
   "cell_type": "markdown",
   "metadata": {},
   "source": [
    "School Type vs. Starting Median"
   ]
  },
  {
   "cell_type": "code",
   "execution_count": 94,
   "metadata": {},
   "outputs": [
    {
     "data": {
      "text/plain": [
       "[]"
      ]
     },
     "execution_count": 94,
     "metadata": {},
     "output_type": "execute_result"
    },
    {
     "data": {
      "image/png": "[encoded data removed]",
      "text/plain": [
       "<Figure size 640x480 with 1 Axes>"
      ]
     },
     "metadata": {},
     "output_type": "display_data"
    }
   ],
   "source": [
    "#plt.figure(figsize = (10,7))\n",
    "plt.title('School Type and Starting Median Salary')\n",
    "plt.xlabel('School Type')\n",
    "plt.ylabel('Starting Median Salary')\n",
    "plt.bar(df_by_colleges['School Type'], df_by_colleges['Starting Median'])\n",
    "plt.plot()"
   ]
  },
  {
   "attachments": {},
   "cell_type": "markdown",
   "metadata": {},
   "source": [
    "Here, we can see that the Engineering starting salary is the highest, beating out Ivy League schools, and party schools by over $20,000."
   ]
  },
  {
   "attachments": {},
   "cell_type": "markdown",
   "metadata": {},
   "source": [
    "School Type vs. Mid-Career Median"
   ]
  },
  {
   "cell_type": "code",
   "execution_count": 95,
   "metadata": {},
   "outputs": [
    {
     "data": {
      "text/plain": [
       "[]"
      ]
     },
     "execution_count": 95,
     "metadata": {},
     "output_type": "execute_result"
    },
    {
     "data": {
      "image/png": "[encoded data removed]",
      "text/plain": [
       "<Figure size 640x480 with 1 Axes>"
      ]
     },
     "metadata": {},
     "output_type": "display_data"
    }
   ],
   "source": [
    "#plt.figure(figsize = (10,7))\n",
    "plt.title('School Type and Mid-Career Median Salary')\n",
    "plt.xlabel('School Type')\n",
    "plt.ylabel('Mid-Career Median Salary')\n",
    "plt.bar(df_by_colleges['School Type'], df_by_colleges['Mid-Career Median'])\n",
    "plt.plot()"
   ]
  },
  {
   "attachments": {},
   "cell_type": "markdown",
   "metadata": {},
   "source": [
    "We notice that the starting median salary from Engineering schools is higher than that of Ivy League, but the mid career median salary of Engineering schools is lower than that of Ivy League. This is a trend similar to what we noticed in California-Northeastern school salaries."
   ]
  },
  {
   "attachments": {},
   "cell_type": "markdown",
   "metadata": {},
   "source": [
    "Major vs Salary analysis"
   ]
  },
  {
   "cell_type": "code",
   "execution_count": 107,
   "metadata": {},
   "outputs": [
    {
     "data": {
      "text/plain": [
       "0                      Physician Assistant\n",
       "1                     Chemical Engineering\n",
       "2                     Computer Engineering\n",
       "3                   Electrical Engineering\n",
       "4                   Mechanical Engineering\n",
       "5                    Aerospace Engineering\n",
       "6                   Industrial Engineering\n",
       "7                         Computer Science\n",
       "8                                  Nursing\n",
       "9                        Civil Engineering\n",
       "10                            Construction\n",
       "11                                 Physics\n",
       "12                               Economics\n",
       "13    Management Information Systems (MIS)\n",
       "14             Information Technology (IT)\n",
       "15                                 Finance\n",
       "16                              Accounting\n",
       "17                                    Math\n",
       "18                                 Geology\n",
       "19                     Business Management\n",
       "20                             Agriculture\n",
       "21                               Chemistry\n",
       "22                            Architecture\n",
       "23                               Geography\n",
       "24                 International Relations\n",
       "25                       Political Science\n",
       "26                               Marketing\n",
       "27                              Philosophy\n",
       "28                               Nutrition\n",
       "29                                 History\n",
       "30                                Forestry\n",
       "31              Health Care Administration\n",
       "32                                 Biology\n",
       "33                          Communications\n",
       "34                                 English\n",
       "35                                    Film\n",
       "36                   Hospitality & Tourism\n",
       "37                            Anthropology\n",
       "38                               Sociology\n",
       "39                         Interior Design\n",
       "40                              Psychology\n",
       "41                                   Music\n",
       "42                                   Drama\n",
       "43                             Art History\n",
       "44                          Graphic Design\n",
       "45                              Journalism\n",
       "46                        Criminal Justice\n",
       "47                               Education\n",
       "48                                Religion\n",
       "49                                 Spanish\n",
       "Name: Major, dtype: object"
      ]
     },
     "execution_count": 107,
     "metadata": {},
     "output_type": "execute_result"
    }
   ],
   "source": [
    "#Start\n",
    "starting_order = df_by_major.sort_values(by = 'Starting Median', ascending = False)['Major'].reset_index(drop = True)\n",
    "starting_order"
   ]
  },
  {
   "attachments": {},
   "cell_type": "markdown",
   "metadata": {},
   "source": [
    "For our final data analysis representation, we wanted to showcase the starting, mid-career, and 90th percentile mid-career salaries as time goes on using a boxplot, as this would show outliers, median, and the varying quartiles."
   ]
  },
  {
   "cell_type": "code",
   "execution_count": 109,
   "metadata": {},
   "outputs": [
    {
     "data": {
      "image/png": "[encoded data removed]",
      "text/plain": [
       "<Figure size 800x800 with 1 Axes>"
      ]
     },
     "metadata": {},
     "output_type": "display_data"
    }
   ],
   "source": [
    "plt.figure(figsize=(8,8))\n",
    "lst = [df_by_major['Starting Median'], df_by_major['Mid-Career Median'], df_by_major['Mid-Career 90%']]\n",
    "\n",
    "plt.boxplot(lst)\n",
    "plt.ylabel('Salary')\n",
    "plt.xticks([1,2,3], ['Starting', 'Mid-Career', 'Mid-Career 90th percentile'])\n",
    "plt.show()"
   ]
  },
  {
   "attachments": {},
   "cell_type": "markdown",
   "metadata": {},
   "source": [
    "Here we see that starting salaries have the shortest standard deviation, followed by mid-career, and mid-career 90th percentile has the largest standard deviation with a large range. There is also an outlier in the starting salaries: ~75,000, which is greater even than the median of the mid-career salaries"
   ]
  },
  {
   "cell_type": "code",
   "execution_count": 99,
   "metadata": {},
   "outputs": [
    {
     "data": {
      "text/html": [
       "<div>\n",
       "<style scoped>\n",
       "    .dataframe tbody tr th:only-of-type {\n",
       "        vertical-align: middle;\n",
       "    }\n",
       "\n",
       "    .dataframe tbody tr th {\n",
       "        vertical-align: top;\n",
       "    }\n",
       "\n",
       "    .dataframe thead th {\n",
       "        text-align: right;\n",
       "    }\n",
       "</style>\n",
       "<table border=\"1\" class=\"dataframe\">\n",
       "  <thead>\n",
       "    <tr style=\"text-align: right;\">\n",
       "      <th></th>\n",
       "      <th>Major</th>\n",
       "      <th>Starting Median</th>\n",
       "      <th>Mid-Career Median</th>\n",
       "      <th>Start to Mid % Change</th>\n",
       "      <th>Mid-Career 10%</th>\n",
       "      <th>Mid-Career 25%</th>\n",
       "      <th>Mid-Career 75%</th>\n",
       "      <th>Mid-Career 90%</th>\n",
       "    </tr>\n",
       "  </thead>\n",
       "  <tbody>\n",
       "    <tr>\n",
       "      <th>43</th>\n",
       "      <td>Physician Assistant</td>\n",
       "      <td>74300.0</td>\n",
       "      <td>91700.0</td>\n",
       "      <td>23.4</td>\n",
       "      <td>66400.0</td>\n",
       "      <td>75200.0</td>\n",
       "      <td>108000.0</td>\n",
       "      <td>124000.0</td>\n",
       "    </tr>\n",
       "  </tbody>\n",
       "</table>\n",
       "</div>"
      ],
      "text/plain": [
       "                  Major  Starting Median  Mid-Career Median  \\\n",
       "43  Physician Assistant          74300.0            91700.0   \n",
       "\n",
       "    Start to Mid % Change  Mid-Career 10%  Mid-Career 25%  Mid-Career 75%  \\\n",
       "43                   23.4         66400.0         75200.0        108000.0   \n",
       "\n",
       "    Mid-Career 90%  \n",
       "43        124000.0  "
      ]
     },
     "execution_count": 99,
     "metadata": {},
     "output_type": "execute_result"
    }
   ],
   "source": [
    "#Finding out which major has the highest starting median salary\n",
    "df_by_major[df_by_major['Starting Median'] == df_by_major['Starting Median'].max()]"
   ]
  },
  {
   "cell_type": "code",
   "execution_count": 111,
   "metadata": {},
   "outputs": [
    {
     "data": {
      "text/html": [
       "<div>\n",
       "<style scoped>\n",
       "    .dataframe tbody tr th:only-of-type {\n",
       "        vertical-align: middle;\n",
       "    }\n",
       "\n",
       "    .dataframe tbody tr th {\n",
       "        vertical-align: top;\n",
       "    }\n",
       "\n",
       "    .dataframe thead th {\n",
       "        text-align: right;\n",
       "    }\n",
       "</style>\n",
       "<table border=\"1\" class=\"dataframe\">\n",
       "  <thead>\n",
       "    <tr style=\"text-align: right;\">\n",
       "      <th></th>\n",
       "      <th>Major</th>\n",
       "      <th>Starting Median</th>\n",
       "      <th>Mid-Career Median</th>\n",
       "      <th>Start to Mid % Change</th>\n",
       "      <th>Mid-Career 10%</th>\n",
       "      <th>Mid-Career 25%</th>\n",
       "      <th>Mid-Career 75%</th>\n",
       "      <th>Mid-Career 90%</th>\n",
       "    </tr>\n",
       "  </thead>\n",
       "  <tbody>\n",
       "    <tr>\n",
       "      <th>8</th>\n",
       "      <td>Chemical Engineering</td>\n",
       "      <td>63200.0</td>\n",
       "      <td>107000.0</td>\n",
       "      <td>69.3</td>\n",
       "      <td>71900.0</td>\n",
       "      <td>87300.0</td>\n",
       "      <td>143000.0</td>\n",
       "      <td>194000.0</td>\n",
       "    </tr>\n",
       "  </tbody>\n",
       "</table>\n",
       "</div>"
      ],
      "text/plain": [
       "                  Major  Starting Median  Mid-Career Median  \\\n",
       "8  Chemical Engineering          63200.0           107000.0   \n",
       "\n",
       "   Start to Mid % Change  Mid-Career 10%  Mid-Career 25%  Mid-Career 75%  \\\n",
       "8                   69.3         71900.0         87300.0        143000.0   \n",
       "\n",
       "   Mid-Career 90%  \n",
       "8        194000.0  "
      ]
     },
     "execution_count": 111,
     "metadata": {},
     "output_type": "execute_result"
    }
   ],
   "source": [
    "df_by_major[df_by_major['Mid-Career Median'] == df_by_major['Mid-Career Median'].max()]"
   ]
  },
  {
   "attachments": {},
   "cell_type": "markdown",
   "metadata": {},
   "source": [
    "We notice that the start to mid-career salary change for physician assistant is 23.4%"
   ]
  },
  {
   "cell_type": "code",
   "execution_count": 100,
   "metadata": {},
   "outputs": [
    {
     "data": {
      "text/plain": [
       "74786.0"
      ]
     },
     "execution_count": 100,
     "metadata": {},
     "output_type": "execute_result"
    }
   ],
   "source": [
    "#Finding the mean mid-career median salary\n",
    "df_by_major['Mid-Career Median'].mean()"
   ]
  },
  {
   "cell_type": "code",
   "execution_count": 101,
   "metadata": {},
   "outputs": [
    {
     "data": {
      "text/plain": [
       "69.274"
      ]
     },
     "execution_count": 101,
     "metadata": {},
     "output_type": "execute_result"
    }
   ],
   "source": [
    "#Finding the mean percentage change from starting to midcareer salaries for all majors\n",
    "df_by_major['Start to Mid % Change'].mean()"
   ]
  },
  {
   "attachments": {},
   "cell_type": "markdown",
   "metadata": {},
   "source": [
    "Although the physician assistant starting median salary is much higher than the starting salaries for the other majors, we see that the 'start to mid career percentage change' in salary of physician assistant is 23.4%, which is a lot lower than that of the mean 'start to mid career percentage change' of 69.3%.\n",
    "\n",
    "This shows that the starting salary is not the only indicator of mid career salaries and other factors affect it as well, answering one of our three questions above. "
   ]
  },
  {
   "attachments": {},
   "cell_type": "markdown",
   "metadata": {},
   "source": [
    "<h2>Predicting Mid-Career Median Salary based on School Type and Starting Salary</h2>"
   ]
  },
  {
   "attachments": {},
   "cell_type": "markdown",
   "metadata": {},
   "source": [
    "For the next part of our tutorial, we will be attempting to make a model that predicts Mid-Career Median salaries based on the school type that the student is attending and their projected starting salary. To understand how the model might end up looking, we want to create a regression line that can show us potential predictions. "
   ]
  },
  {
   "attachments": {},
   "cell_type": "markdown",
   "metadata": {},
   "source": [
    "Once we've predicted the Mid-Career Median Salary based on school type and starting salary, we plan to also predict it based on region and starting salary using one of the other dataframes. This will allow us to see which feature has a more direct impact on mid-career salary, and thus which one students should prioritize if they are looking to maximize their salary. "
   ]
  },
  {
   "cell_type": "code",
   "execution_count": 102,
   "metadata": {},
   "outputs": [
    {
     "data": {
      "image/png": "[encoded data removed]",
      "text/plain": [
       "<Figure size 1000x800 with 1 Axes>"
      ]
     },
     "metadata": {},
     "output_type": "display_data"
    }
   ],
   "source": [
    "# g = sns.FacetGrid(data, row = 'continent', aspect = 2)\n",
    "# g = g.map(plt.scatter, x= data['year'], y = data['lifeExp'])\n",
    "\n",
    "# plt.show()\n",
    "\n",
    "#Using groupby and seaborn to create a single graph with all the regression lines contained\n",
    "df_by_colleges = df_by_colleges.rename(columns = {\"Starting Median\":\"Starting_Median\", \n",
    "\"Mid-Career Median\":\"Mid_Career_Median\"})\n",
    "figure(figsize=(10,8))\n",
    "for name, group in df_by_colleges.groupby('School Type'):\n",
    "    plt.scatter(group.Starting_Median, group.Mid_Career_Median, label = name)\n",
    "    sns.regplot(x = group.Starting_Median, y = group.Mid_Career_Median, data = df_by_colleges, ci=None)\n",
    "\n",
    "plt.title('Expected Mid Career Median Salary')\n",
    "plt.xlabel('Starting Median Salary')\n",
    "plt.ylabel('Mid-Career Salary')\n",
    "plt.legend()\n",
    "plt.show()\n",
    "\n",
    "# sns.scatterplot(data['year'], data['lifeExp'], hue = data['continent'])\n",
    "# plt.show()"
   ]
  },
  {
   "attachments": {},
   "cell_type": "markdown",
   "metadata": {},
   "source": [
    "The Ivy League schools regression line has a higher intersect (higher starting salaries than other schools) and lower slope (less increase in mid career salary from an increase in starting salary). This could partly be due to a lesser number of Ivy League schools, meaning a smaller number of datapoints. Liberal Arts schools have the highest regression line slope, meaning that a higher starting salary goes a longer way in getting a higher mid career salary"
   ]
  },
  {
   "attachments": {},
   "cell_type": "markdown",
   "metadata": {},
   "source": [
    "From this regression line, we can see that the relationship between Starting_Median and Mid_Career_Median is fairly linear, which shows that if you have a higher starting salary out of college you will most likely also have a higher mid career salary. This lines up with our thought process, and means that we can use a regresssion prediction algorithm to predict mid career salaries of these students. "
   ]
  },
  {
   "attachments": {},
   "cell_type": "markdown",
   "metadata": {},
   "source": [
    "Before jumping into our regression line predictor, we have to enumerate our school type column, because it is currently a column with Strings in it rather than floats or integers. In order to do linear regression, we needed numeric values, and so we made a quick function that would allow us to change all of the school types to numbers, attaching numbers to each school type manually. "
   ]
  },
  {
   "cell_type": "code",
   "execution_count": 103,
   "metadata": {},
   "outputs": [
    {
     "data": {
      "text/html": [
       "<div>\n",
       "<style scoped>\n",
       "    .dataframe tbody tr th:only-of-type {\n",
       "        vertical-align: middle;\n",
       "    }\n",
       "\n",
       "    .dataframe tbody tr th {\n",
       "        vertical-align: top;\n",
       "    }\n",
       "\n",
       "    .dataframe thead th {\n",
       "        text-align: right;\n",
       "    }\n",
       "</style>\n",
       "<table border=\"1\" class=\"dataframe\">\n",
       "  <thead>\n",
       "    <tr style=\"text-align: right;\">\n",
       "      <th></th>\n",
       "      <th>School Name</th>\n",
       "      <th>School Type</th>\n",
       "      <th>Starting_Median</th>\n",
       "      <th>Mid_Career_Median</th>\n",
       "      <th>Mid-Career 10%</th>\n",
       "      <th>Mid-Career 25%</th>\n",
       "      <th>Mid-Career 75%</th>\n",
       "      <th>Mid-Career 90%</th>\n",
       "      <th>School Number</th>\n",
       "    </tr>\n",
       "  </thead>\n",
       "  <tbody>\n",
       "    <tr>\n",
       "      <th>0</th>\n",
       "      <td>Massachusetts Institute of Technology (MIT)</td>\n",
       "      <td>Engineering</td>\n",
       "      <td>72200.0</td>\n",
       "      <td>126000.0</td>\n",
       "      <td>76800.0</td>\n",
       "      <td>99200.0</td>\n",
       "      <td>168000.0</td>\n",
       "      <td>220000.0</td>\n",
       "      <td>0</td>\n",
       "    </tr>\n",
       "    <tr>\n",
       "      <th>1</th>\n",
       "      <td>California Institute of Technology (CIT)</td>\n",
       "      <td>Engineering</td>\n",
       "      <td>75500.0</td>\n",
       "      <td>123000.0</td>\n",
       "      <td>NaN</td>\n",
       "      <td>104000.0</td>\n",
       "      <td>161000.0</td>\n",
       "      <td>NaN</td>\n",
       "      <td>0</td>\n",
       "    </tr>\n",
       "    <tr>\n",
       "      <th>2</th>\n",
       "      <td>Harvey Mudd College</td>\n",
       "      <td>Engineering</td>\n",
       "      <td>71800.0</td>\n",
       "      <td>122000.0</td>\n",
       "      <td>NaN</td>\n",
       "      <td>96000.0</td>\n",
       "      <td>180000.0</td>\n",
       "      <td>NaN</td>\n",
       "      <td>0</td>\n",
       "    </tr>\n",
       "    <tr>\n",
       "      <th>3</th>\n",
       "      <td>Polytechnic University of New York Brooklyn</td>\n",
       "      <td>Engineering</td>\n",
       "      <td>62400.0</td>\n",
       "      <td>114000.0</td>\n",
       "      <td>66800.0</td>\n",
       "      <td>94300.0</td>\n",
       "      <td>143000.0</td>\n",
       "      <td>190000.0</td>\n",
       "      <td>0</td>\n",
       "    </tr>\n",
       "    <tr>\n",
       "      <th>4</th>\n",
       "      <td>Cooper Union</td>\n",
       "      <td>Engineering</td>\n",
       "      <td>62200.0</td>\n",
       "      <td>114000.0</td>\n",
       "      <td>NaN</td>\n",
       "      <td>80200.0</td>\n",
       "      <td>142000.0</td>\n",
       "      <td>NaN</td>\n",
       "      <td>0</td>\n",
       "    </tr>\n",
       "    <tr>\n",
       "      <th>...</th>\n",
       "      <td>...</td>\n",
       "      <td>...</td>\n",
       "      <td>...</td>\n",
       "      <td>...</td>\n",
       "      <td>...</td>\n",
       "      <td>...</td>\n",
       "      <td>...</td>\n",
       "      <td>...</td>\n",
       "      <td>...</td>\n",
       "    </tr>\n",
       "    <tr>\n",
       "      <th>264</th>\n",
       "      <td>Austin Peay State University</td>\n",
       "      <td>State</td>\n",
       "      <td>37700.0</td>\n",
       "      <td>59200.0</td>\n",
       "      <td>32200.0</td>\n",
       "      <td>40500.0</td>\n",
       "      <td>73900.0</td>\n",
       "      <td>96200.0</td>\n",
       "      <td>4</td>\n",
       "    </tr>\n",
       "    <tr>\n",
       "      <th>265</th>\n",
       "      <td>Pittsburg State University</td>\n",
       "      <td>State</td>\n",
       "      <td>40400.0</td>\n",
       "      <td>58200.0</td>\n",
       "      <td>25600.0</td>\n",
       "      <td>46000.0</td>\n",
       "      <td>84600.0</td>\n",
       "      <td>117000.0</td>\n",
       "      <td>4</td>\n",
       "    </tr>\n",
       "    <tr>\n",
       "      <th>266</th>\n",
       "      <td>Southern Utah University</td>\n",
       "      <td>State</td>\n",
       "      <td>41900.0</td>\n",
       "      <td>56500.0</td>\n",
       "      <td>30700.0</td>\n",
       "      <td>39700.0</td>\n",
       "      <td>78400.0</td>\n",
       "      <td>116000.0</td>\n",
       "      <td>4</td>\n",
       "    </tr>\n",
       "    <tr>\n",
       "      <th>267</th>\n",
       "      <td>Montana State University - Billings</td>\n",
       "      <td>State</td>\n",
       "      <td>37900.0</td>\n",
       "      <td>50600.0</td>\n",
       "      <td>22600.0</td>\n",
       "      <td>31800.0</td>\n",
       "      <td>78500.0</td>\n",
       "      <td>98900.0</td>\n",
       "      <td>4</td>\n",
       "    </tr>\n",
       "    <tr>\n",
       "      <th>268</th>\n",
       "      <td>Black Hills State University</td>\n",
       "      <td>State</td>\n",
       "      <td>35300.0</td>\n",
       "      <td>43900.0</td>\n",
       "      <td>27000.0</td>\n",
       "      <td>32200.0</td>\n",
       "      <td>60900.0</td>\n",
       "      <td>87600.0</td>\n",
       "      <td>4</td>\n",
       "    </tr>\n",
       "  </tbody>\n",
       "</table>\n",
       "<p>269 rows × 9 columns</p>\n",
       "</div>"
      ],
      "text/plain": [
       "                                     School Name  School Type  \\\n",
       "0    Massachusetts Institute of Technology (MIT)  Engineering   \n",
       "1       California Institute of Technology (CIT)  Engineering   \n",
       "2                            Harvey Mudd College  Engineering   \n",
       "3    Polytechnic University of New York Brooklyn  Engineering   \n",
       "4                                   Cooper Union  Engineering   \n",
       "..                                           ...          ...   \n",
       "264                 Austin Peay State University        State   \n",
       "265                   Pittsburg State University        State   \n",
       "266                     Southern Utah University        State   \n",
       "267          Montana State University - Billings        State   \n",
       "268                 Black Hills State University        State   \n",
       "\n",
       "     Starting_Median  Mid_Career_Median  Mid-Career 10%  Mid-Career 25%  \\\n",
       "0            72200.0           126000.0         76800.0         99200.0   \n",
       "1            75500.0           123000.0             NaN        104000.0   \n",
       "2            71800.0           122000.0             NaN         96000.0   \n",
       "3            62400.0           114000.0         66800.0         94300.0   \n",
       "4            62200.0           114000.0             NaN         80200.0   \n",
       "..               ...                ...             ...             ...   \n",
       "264          37700.0            59200.0         32200.0         40500.0   \n",
       "265          40400.0            58200.0         25600.0         46000.0   \n",
       "266          41900.0            56500.0         30700.0         39700.0   \n",
       "267          37900.0            50600.0         22600.0         31800.0   \n",
       "268          35300.0            43900.0         27000.0         32200.0   \n",
       "\n",
       "     Mid-Career 75%  Mid-Career 90%  School Number  \n",
       "0          168000.0        220000.0              0  \n",
       "1          161000.0             NaN              0  \n",
       "2          180000.0             NaN              0  \n",
       "3          143000.0        190000.0              0  \n",
       "4          142000.0             NaN              0  \n",
       "..              ...             ...            ...  \n",
       "264         73900.0         96200.0              4  \n",
       "265         84600.0        117000.0              4  \n",
       "266         78400.0        116000.0              4  \n",
       "267         78500.0         98900.0              4  \n",
       "268         60900.0         87600.0              4  \n",
       "\n",
       "[269 rows x 9 columns]"
      ]
     },
     "execution_count": 103,
     "metadata": {},
     "output_type": "execute_result"
    }
   ],
   "source": [
    "#Creating a function to enumerate the school type columns\n",
    "def school_enumerator(x):\n",
    "    if x == 'Engineering':\n",
    "        return 0\n",
    "    if x == 'Party':\n",
    "        return 1 \n",
    "    if x == 'Liberal Arts':\n",
    "        return 2\n",
    "    if x == 'Ivy League':\n",
    "        return 3\n",
    "    if x == 'State':\n",
    "        return 4\n",
    "\n",
    "#Applying the function to the school number column \n",
    "df_by_colleges['School Number'] = df_by_colleges['School Type'].apply(school_enumerator)\n",
    "df_by_colleges"
   ]
  },
  {
   "attachments": {},
   "cell_type": "markdown",
   "metadata": {},
   "source": [
    "Now that we've enumerated our school type column, we can create the prediction model using the following code and sklearn. \n",
    "\n",
    "Note: Please download sklearn in order to continue with this part of the module, the documentation is given here:\n",
    "\n",
    "Sklearn Documentation: https://scikit-learn.org/stable/"
   ]
  },
  {
   "cell_type": "code",
   "execution_count": 104,
   "metadata": {},
   "outputs": [
    {
     "name": "stdout",
     "output_type": "stream",
     "text": [
      "Cross Validation - \n",
      "Mean: 0.7772531625019304 | Standard deviation: 0.07090131183391643\n",
      "The accuracy of the model using r^2 technique is:  0.8423905920279562\n"
     ]
    }
   ],
   "source": [
    "#Importing all the libraries necessary for regression \n",
    "from sklearn import metrics\n",
    "from sklearn import linear_model\n",
    "from sklearn.metrics import mean_squared_error, r2_score\n",
    "#Splitting into training and test sets\n",
    "X_train, X_test, y_train, y_test = train_test_split(df_by_colleges[['School Number', 'Starting_Median']], \n",
    "df_by_colleges['Mid_Career_Median'],random_state=42, test_size = 0.2)\n",
    "\n",
    "#Creating the model for linear regression and fitting it to our training sets\n",
    "model_ols = linear_model.LinearRegression()\n",
    "model_ols.fit(X_train,y_train) \n",
    "\n",
    "#Using Cross Validation to check accuracy and test our model\n",
    "scores = cross_val_score(model_ols, X_train, y_train, cv=10)\n",
    "print(\"Cross Validation - \\nMean:\", scores.mean(), \"| Standard deviation:\",\n",
    "scores.std())\n",
    "\n",
    "print(\"The accuracy of the model using r^2 technique is: \",  model_ols.score(X_test, y_test))\n"
   ]
  },
  {
   "attachments": {},
   "cell_type": "markdown",
   "metadata": {},
   "source": [
    "From the model_ols.score, we can see that we have quite high accuracy, reaching 0.842. This is a good number, and demonstrates that our model is working but not extremely accurate yet. \n",
    "\n",
    "Next, we want to create a regression predictor using the same technique, but with School Region as the secondary parameter, to see whether this will create a more accurate predictor or not. "
   ]
  },
  {
   "cell_type": "code",
   "execution_count": 105,
   "metadata": {},
   "outputs": [
    {
     "data": {
      "text/html": [
       "<div>\n",
       "<style scoped>\n",
       "    .dataframe tbody tr th:only-of-type {\n",
       "        vertical-align: middle;\n",
       "    }\n",
       "\n",
       "    .dataframe tbody tr th {\n",
       "        vertical-align: top;\n",
       "    }\n",
       "\n",
       "    .dataframe thead th {\n",
       "        text-align: right;\n",
       "    }\n",
       "</style>\n",
       "<table border=\"1\" class=\"dataframe\">\n",
       "  <thead>\n",
       "    <tr style=\"text-align: right;\">\n",
       "      <th></th>\n",
       "      <th>School Name</th>\n",
       "      <th>Region</th>\n",
       "      <th>Starting Median</th>\n",
       "      <th>Mid-Career Median</th>\n",
       "      <th>Mid-Career 10%</th>\n",
       "      <th>Mid-Career 25%</th>\n",
       "      <th>Mid-Career 75%</th>\n",
       "      <th>Mid-Career 90%</th>\n",
       "      <th>Type Number</th>\n",
       "    </tr>\n",
       "  </thead>\n",
       "  <tbody>\n",
       "    <tr>\n",
       "      <th>0</th>\n",
       "      <td>Stanford University</td>\n",
       "      <td>California</td>\n",
       "      <td>70400.0</td>\n",
       "      <td>129000.0</td>\n",
       "      <td>68400.0</td>\n",
       "      <td>93100.0</td>\n",
       "      <td>184000.0</td>\n",
       "      <td>257000.0</td>\n",
       "      <td>0</td>\n",
       "    </tr>\n",
       "    <tr>\n",
       "      <th>1</th>\n",
       "      <td>California Institute of Technology (CIT)</td>\n",
       "      <td>California</td>\n",
       "      <td>75500.0</td>\n",
       "      <td>123000.0</td>\n",
       "      <td>NaN</td>\n",
       "      <td>104000.0</td>\n",
       "      <td>161000.0</td>\n",
       "      <td>NaN</td>\n",
       "      <td>0</td>\n",
       "    </tr>\n",
       "    <tr>\n",
       "      <th>2</th>\n",
       "      <td>Harvey Mudd College</td>\n",
       "      <td>California</td>\n",
       "      <td>71800.0</td>\n",
       "      <td>122000.0</td>\n",
       "      <td>NaN</td>\n",
       "      <td>96000.0</td>\n",
       "      <td>180000.0</td>\n",
       "      <td>NaN</td>\n",
       "      <td>0</td>\n",
       "    </tr>\n",
       "    <tr>\n",
       "      <th>3</th>\n",
       "      <td>University of California Berkeley</td>\n",
       "      <td>California</td>\n",
       "      <td>59900.0</td>\n",
       "      <td>112000.0</td>\n",
       "      <td>59500.0</td>\n",
       "      <td>81000.0</td>\n",
       "      <td>149000.0</td>\n",
       "      <td>201000.0</td>\n",
       "      <td>0</td>\n",
       "    </tr>\n",
       "    <tr>\n",
       "      <th>4</th>\n",
       "      <td>Occidental College</td>\n",
       "      <td>California</td>\n",
       "      <td>51900.0</td>\n",
       "      <td>105000.0</td>\n",
       "      <td>NaN</td>\n",
       "      <td>54800.0</td>\n",
       "      <td>157000.0</td>\n",
       "      <td>NaN</td>\n",
       "      <td>0</td>\n",
       "    </tr>\n",
       "    <tr>\n",
       "      <th>...</th>\n",
       "      <td>...</td>\n",
       "      <td>...</td>\n",
       "      <td>...</td>\n",
       "      <td>...</td>\n",
       "      <td>...</td>\n",
       "      <td>...</td>\n",
       "      <td>...</td>\n",
       "      <td>...</td>\n",
       "      <td>...</td>\n",
       "    </tr>\n",
       "    <tr>\n",
       "      <th>315</th>\n",
       "      <td>State University of New York (SUNY) at Potsdam</td>\n",
       "      <td>Northeastern</td>\n",
       "      <td>38000.0</td>\n",
       "      <td>70300.0</td>\n",
       "      <td>35100.0</td>\n",
       "      <td>51200.0</td>\n",
       "      <td>100000.0</td>\n",
       "      <td>179000.0</td>\n",
       "      <td>1</td>\n",
       "    </tr>\n",
       "    <tr>\n",
       "      <th>316</th>\n",
       "      <td>Niagara University</td>\n",
       "      <td>Northeastern</td>\n",
       "      <td>36900.0</td>\n",
       "      <td>69700.0</td>\n",
       "      <td>44000.0</td>\n",
       "      <td>57000.0</td>\n",
       "      <td>92000.0</td>\n",
       "      <td>128000.0</td>\n",
       "      <td>1</td>\n",
       "    </tr>\n",
       "    <tr>\n",
       "      <th>317</th>\n",
       "      <td>State University of New York (SUNY) at Fredonia</td>\n",
       "      <td>Northeastern</td>\n",
       "      <td>37800.0</td>\n",
       "      <td>66200.0</td>\n",
       "      <td>32800.0</td>\n",
       "      <td>44200.0</td>\n",
       "      <td>93300.0</td>\n",
       "      <td>181000.0</td>\n",
       "      <td>1</td>\n",
       "    </tr>\n",
       "    <tr>\n",
       "      <th>318</th>\n",
       "      <td>University of Southern Maine</td>\n",
       "      <td>Northeastern</td>\n",
       "      <td>39400.0</td>\n",
       "      <td>63600.0</td>\n",
       "      <td>40400.0</td>\n",
       "      <td>47900.0</td>\n",
       "      <td>85700.0</td>\n",
       "      <td>117000.0</td>\n",
       "      <td>1</td>\n",
       "    </tr>\n",
       "    <tr>\n",
       "      <th>319</th>\n",
       "      <td>Mercy College</td>\n",
       "      <td>Northeastern</td>\n",
       "      <td>43700.0</td>\n",
       "      <td>62600.0</td>\n",
       "      <td>35600.0</td>\n",
       "      <td>47300.0</td>\n",
       "      <td>99000.0</td>\n",
       "      <td>134000.0</td>\n",
       "      <td>1</td>\n",
       "    </tr>\n",
       "  </tbody>\n",
       "</table>\n",
       "<p>320 rows × 9 columns</p>\n",
       "</div>"
      ],
      "text/plain": [
       "                                         School Name        Region  \\\n",
       "0                                Stanford University    California   \n",
       "1           California Institute of Technology (CIT)    California   \n",
       "2                                Harvey Mudd College    California   \n",
       "3                  University of California Berkeley    California   \n",
       "4                                 Occidental College    California   \n",
       "..                                               ...           ...   \n",
       "315   State University of New York (SUNY) at Potsdam  Northeastern   \n",
       "316                               Niagara University  Northeastern   \n",
       "317  State University of New York (SUNY) at Fredonia  Northeastern   \n",
       "318                     University of Southern Maine  Northeastern   \n",
       "319                                    Mercy College  Northeastern   \n",
       "\n",
       "     Starting Median  Mid-Career Median  Mid-Career 10%  Mid-Career 25%  \\\n",
       "0            70400.0           129000.0         68400.0         93100.0   \n",
       "1            75500.0           123000.0             NaN        104000.0   \n",
       "2            71800.0           122000.0             NaN         96000.0   \n",
       "3            59900.0           112000.0         59500.0         81000.0   \n",
       "4            51900.0           105000.0             NaN         54800.0   \n",
       "..               ...                ...             ...             ...   \n",
       "315          38000.0            70300.0         35100.0         51200.0   \n",
       "316          36900.0            69700.0         44000.0         57000.0   \n",
       "317          37800.0            66200.0         32800.0         44200.0   \n",
       "318          39400.0            63600.0         40400.0         47900.0   \n",
       "319          43700.0            62600.0         35600.0         47300.0   \n",
       "\n",
       "     Mid-Career 75%  Mid-Career 90%  Type Number  \n",
       "0          184000.0        257000.0            0  \n",
       "1          161000.0             NaN            0  \n",
       "2          180000.0             NaN            0  \n",
       "3          149000.0        201000.0            0  \n",
       "4          157000.0             NaN            0  \n",
       "..              ...             ...          ...  \n",
       "315        100000.0        179000.0            1  \n",
       "316         92000.0        128000.0            1  \n",
       "317         93300.0        181000.0            1  \n",
       "318         85700.0        117000.0            1  \n",
       "319         99000.0        134000.0            1  \n",
       "\n",
       "[320 rows x 9 columns]"
      ]
     },
     "execution_count": 105,
     "metadata": {},
     "output_type": "execute_result"
    }
   ],
   "source": [
    "#Creating a function to enumerate the school type columns\n",
    "def region_enumerator(x):\n",
    "    if x == 'California':\n",
    "        return 0\n",
    "    if x == 'Northeastern':\n",
    "        return 1 \n",
    "    if x == 'Southern':\n",
    "        return 2\n",
    "    if x == 'Western':\n",
    "        return 3\n",
    "    if x == 'Midwestern':\n",
    "        return 4\n",
    "\n",
    "#Applying the function to the school number column \n",
    "df_by_region['Type Number'] = df_by_region['Region'].apply(region_enumerator)\n",
    "df_by_region"
   ]
  },
  {
   "cell_type": "code",
   "execution_count": 106,
   "metadata": {},
   "outputs": [
    {
     "name": "stdout",
     "output_type": "stream",
     "text": [
      "Cross Validation - \n",
      "Mean: 0.7587173400930513 | Standard deviation: 0.05440667755155909\n",
      "The accuracy of the model using r^2 technique is:  0.8202200447945474\n"
     ]
    }
   ],
   "source": [
    "#Importing all the libraries necessary for regression \n",
    "from sklearn import metrics\n",
    "from sklearn import linear_model\n",
    "from sklearn.metrics import mean_squared_error, r2_score\n",
    "#Splitting into training and test sets\n",
    "X_train, X_test, y_train, y_test = train_test_split(df_by_region[['Type Number', 'Starting Median']], \n",
    "df_by_region['Mid-Career Median'],random_state=42, test_size = 0.2)\n",
    "\n",
    "#Creating the model for linear regression and fitting it to our training sets\n",
    "model_ols = linear_model.LinearRegression()\n",
    "model_ols.fit(X_train,y_train) \n",
    "\n",
    "#Using Cross Validation to check accuracy and test our model\n",
    "scores = cross_val_score(model_ols, X_train, y_train, cv=10)\n",
    "print(\"Cross Validation - \\nMean:\", scores.mean(), \"| Standard deviation:\",\n",
    "scores.std())\n",
    "\n",
    "print(\"The accuracy of the model using r^2 technique is: \",  model_ols.score(X_test, y_test))\n"
   ]
  },
  {
   "attachments": {},
   "cell_type": "markdown",
   "metadata": {},
   "source": [
    "We can see from this result that the two regression predictiors are very similar, with the school type beating out school region's accuracy by a small amount. However, both of these predictors are very accurate and can be used to get a good estimate of how much a student will make out of college using these predictors. "
   ]
  },
  {
   "attachments": {},
   "cell_type": "markdown",
   "metadata": {},
   "source": [
    "<h2>Final Notes</h2>"
   ]
  },
  {
   "attachments": {},
   "cell_type": "markdown",
   "metadata": {},
   "source": [
    "<h3>Motivation</h3>"
   ]
  },
  {
   "attachments": {},
   "cell_type": "markdown",
   "metadata": {},
   "source": [
    "This project was naturally motivated for our team. Since we are currently college students, finding a dataset that had this much valuable and interesting information about college students' salaries was compelling. We will soon be entering the job market ourselves, and so we thought it would be a unique idea to look into how various factors can affect the undergraduate salary. \n",
    "\n",
    "As undergraduate students prepare to enter the job market, understanding their employment prospects and potential salaries can be important for making informed decisions about their career paths. Analyzing a dataset on undergraduate student salaries can provide valuable insights into the job market for recent graduates, as well as the overall state of the economy and specific industries. By studying this data, our group can help shed light on these important issues and potentially make a positive impact on the lives and career opportunities of undergraduate students.\n",
    "\n",
    "Since people look a lot at starting salaries, we wanted to do data analysis on whether this was the only factor that truly mattered, and if this was the main feature that students should look at when job hunting out of college. With this in mind, we also put heavy emphasis on mid-career salaries and how they are affected by starting salaries, to depict how graduating students could pick the best possible job for themselves.  "
   ]
  },
  {
   "attachments": {},
   "cell_type": "markdown",
   "metadata": {},
   "source": [
    "<h3>Data Collection and Parsing</h3>"
   ]
  },
  {
   "attachments": {},
   "cell_type": "markdown",
   "metadata": {},
   "source": [
    "We found our dataset on Kaggle, which is one of the world's largest repositories of online databases that anyone can access for free. The dataset was broken down into 3 separate CSV files, which all contained useful information that we ended up utilizing throughout our tutorial, although for the predictors we ended up focusing on the databases by region and college type, as we thought these would be the best features to test on. \n",
    "\n",
    "Before we started doing analysis on our data, we had to convert the string objects to float values, and we did this by removing the $ signs and removing the comma symbols as well. Once we did this, we renamed the columns to make it more easily accessible for the rest of the tutorial and called more easily. Alongside this, we had to enumerate the string values to correspond with features so that we could feed them into our regression predictor, and so we made a simple function that attaches integers to the columns that had strings, such as \"School Type\" and \"Region\".  "
   ]
  },
  {
   "attachments": {},
   "cell_type": "markdown",
   "metadata": {},
   "source": [
    "<h3>Exploratory Data Analysis</h3>"
   ]
  },
  {
   "attachments": {},
   "cell_type": "markdown",
   "metadata": {},
   "source": [
    "We wrote code to explore several aspects of the data about colleges and salaries given in the three dataframes, mainly by creating plots which compare salaries based on factors such as the colleges' region and type. One such data visualisation we made compares starting median, mid-career median, and the 90th percentile mid-career median salaries through the use of a box plot that shows how these respective salaries are distributed. Another technique we made use of was the \"groupby\" function, that allowed us to create a scatterplot with multiple regression lines trailing through it. This plot gave us a great idea of what our final predictor might look like based on the various school types. \n",
    "\n",
    "Through analysis of the bar graphs, box plots, and scatter plots we made, we gained several insights into the colleges relation to earning potential, such as discrepancies in salaries based on the region where the college is located, and higher starting salaries for engineering schools than other types. \n",
    "\n",
    "We used these insights to make decisions about how we should go about predicting salaries based on college information."
   ]
  },
  {
   "attachments": {},
   "cell_type": "markdown",
   "metadata": {},
   "source": [
    "<h3>Hypothesis Testing</h3>"
   ]
  },
  {
   "attachments": {},
   "cell_type": "markdown",
   "metadata": {},
   "source": [
    "The bulk of our hypothesis testing was regarding the best way to predict mid career salaries. This involved determining and choosing appropriate features. We did not simultaneously train our regression model for predicting mid career salary on college region, college type, and starting salary, since too many features and not enough training examples would lead to overfitting.\n",
    "\n",
    "With this in mind, we trained two models separately: both use starting median salary as a feature, but one additionally uses college region while the other uses college type. The r^2 score for the first model (college type) was 84% and for the seond model (college region) was 82%.\n",
    "\n",
    "Since these scores are similar, we can say that although college type and college region are features that affect the mid-career salary, the starting salary is the most important feature in determining what the mid-career salary will be. "
   ]
  },
  {
   "attachments": {},
   "cell_type": "markdown",
   "metadata": {},
   "source": [
    "<h2>Closing Thoughts</h2>"
   ]
  },
  {
   "attachments": {},
   "cell_type": "markdown",
   "metadata": {},
   "source": [
    "To conclude, let's look at some of the questions we posed at the start of the tutorial. \n",
    "\n",
    "1. What factors affect Mid-Career Salaries, and is it heavily dependant on starting salary? - We can answer this through our regression predictors. Since both of them had very similar outcomes, we can say that the starting salary does indeed have the highest impact on mid-career salaries, but that other features also affect it, such as region and college type. \n",
    "\n",
    "2. Is there a relationship between earning potential and college type/region? - Yes. As we saw in the exploratory data analysis section, there were bar graphs depicting how college type can potentially have a heavy impact on mid-career salaries. For example, graduates from engineering colleges had a $40,000 difference when compared to party school graduates. \n",
    "\n",
    "3. Do the majors that have the highest starting salary have the highest mid career salaries, and vice vesa? - Interestingly enough, the answer to this question is not always. From the physician's assistant example, although they had a very high starting salary and it seemed like they were on a good career path, their percentage change was only 23.4%, compared to the mean percentage change of 69.3%. Alongside this, the chemical engineer had a lower starting salary, but a much higher mid-career salary than the physician's assistant. This shows that although starting salaries can be high, it does not always translate into a high mid-career salary. "
   ]
  }
 ],
 "metadata": {
  "kernelspec": {
   "display_name": "base",
   "language": "python",
   "name": "python3"
  },
  "language_info": {
   "codemirror_mode": {
    "name": "ipython",
    "version": 3
   },
   "file_extension": ".py",
   "mimetype": "text/x-python",
   "name": "python",
   "nbconvert_exporter": "python",
   "pygments_lexer": "ipython3",
   "version": "3.9.12"
  },
  "orig_nbformat": 4,
  "vscode": {
   "interpreter": {
    "hash": "d4d1e4263499bec80672ea0156c357c1ee493ec2b1c70f0acce89fc37c4a6abe"
   }
  }
 },
 "nbformat": 4,
 "nbformat_minor": 2
}
